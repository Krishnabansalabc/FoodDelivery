{
 "cells": [
  {
   "cell_type": "code",
   "execution_count": 1,
   "metadata": {},
   "outputs": [
    {
     "name": "stderr",
     "output_type": "stream",
     "text": [
      "Warning message:\n",
      "\"package 'readxl' was built under R version 3.6.1\"Registered S3 method overwritten by 'rvest':\n",
      "  method            from\n",
      "  read_xml.response xml2\n",
      "-- Attaching packages --------------------------------------- tidyverse 1.2.1 --\n",
      "v ggplot2 3.2.1     v purrr   0.3.3\n",
      "v tibble  2.1.3     v dplyr   0.8.3\n",
      "v tidyr   1.0.0     v stringr 1.4.0\n",
      "v readr   1.3.1     v forcats 0.4.0\n",
      "Warning message:\n",
      "\"package 'ggplot2' was built under R version 3.6.1\"Warning message:\n",
      "\"package 'tibble' was built under R version 3.6.1\"Warning message:\n",
      "\"package 'tidyr' was built under R version 3.6.1\"Warning message:\n",
      "\"package 'readr' was built under R version 3.6.1\"Warning message:\n",
      "\"package 'purrr' was built under R version 3.6.1\"Warning message:\n",
      "\"package 'dplyr' was built under R version 3.6.1\"Warning message:\n",
      "\"package 'stringr' was built under R version 3.6.1\"-- Conflicts ------------------------------------------ tidyverse_conflicts() --\n",
      "x dplyr::filter() masks stats::filter()\n",
      "x dplyr::lag()    masks stats::lag()\n",
      "Warning message:\n",
      "\"package 'e1071' was built under R version 3.6.1\"Warning message:\n",
      "\"package 'randomForest' was built under R version 3.6.1\"randomForest 4.6-14\n",
      "Type rfNews() to see new features/changes/bug fixes.\n",
      "\n",
      "Attaching package: 'randomForest'\n",
      "\n",
      "The following object is masked from 'package:dplyr':\n",
      "\n",
      "    combine\n",
      "\n",
      "The following object is masked from 'package:ggplot2':\n",
      "\n",
      "    margin\n",
      "\n",
      "Warning message:\n",
      "\"package 'h2o' was built under R version 3.6.1\"\n",
      "----------------------------------------------------------------------\n",
      "\n",
      "Your next step is to start H2O:\n",
      "    > h2o.init()\n",
      "\n",
      "For H2O package documentation, ask for help:\n",
      "    > ??h2o\n",
      "\n",
      "After starting H2O, you can use the Web UI at http://localhost:54321\n",
      "For more information visit http://docs.h2o.ai\n",
      "\n",
      "----------------------------------------------------------------------\n",
      "\n",
      "\n",
      "Attaching package: 'h2o'\n",
      "\n",
      "The following objects are masked from 'package:stats':\n",
      "\n",
      "    cor, sd, var\n",
      "\n",
      "The following objects are masked from 'package:base':\n",
      "\n",
      "    %*%, %in%, &&, ||, apply, as.factor, as.numeric, colnames,\n",
      "    colnames<-, ifelse, is.character, is.factor, is.numeric, log,\n",
      "    log10, log1p, log2, round, signif, trunc\n",
      "\n"
     ]
    }
   ],
   "source": [
    "library(readxl)\n",
    "library(tidyverse)\n",
    "library(dplyr)\n",
    "library(e1071)\n",
    "library(xlsx)\n",
    "library(rpart)\n",
    "library(randomForest)\n",
    "library(h2o)"
   ]
  },
  {
   "cell_type": "code",
   "execution_count": 2,
   "metadata": {},
   "outputs": [],
   "source": [
    "train = read_excel(\"Data_Train.xlsx\")\n",
    "test = read_excel(\"Data_Test.xlsx\")\n",
    "test$Delivery_Time = NA\n",
    "combi = rbind(train,test)"
   ]
  },
  {
   "cell_type": "markdown",
   "metadata": {},
   "source": [
    "<center><h2>Data Exploration</h2></center>"
   ]
  },
  {
   "cell_type": "code",
   "execution_count": 3,
   "metadata": {},
   "outputs": [
    {
     "data": {
      "text/html": [
       "<table>\n",
       "<thead><tr><th scope=col>Restaurant</th><th scope=col>Location</th><th scope=col>Cuisines</th><th scope=col>Average_Cost</th><th scope=col>Minimum_Order</th><th scope=col>Rating</th><th scope=col>Votes</th><th scope=col>Reviews</th><th scope=col>Delivery_Time</th></tr></thead>\n",
       "<tbody>\n",
       "\t<tr><td>ID_6321                                                                                        </td><td><span style=white-space:pre-wrap>FTI College, Law College Road, Pune       </span>             </td><td><span style=white-space:pre-wrap>Fast Food, Rolls, Burger, Salad, Wraps                 </span></td><td>&lt;U+20B9&gt;200                                                                              </td><td>&lt;U+20B9&gt;50                                                                               </td><td>3.5                                                                                            </td><td><span style=white-space:pre-wrap>12  </span>                                                   </td><td><span style=white-space:pre-wrap>4   </span>                                                   </td><td>30 minutes                                                                                     </td></tr>\n",
       "\t<tr><td>ID_2882                                                                                        </td><td><span style=white-space:pre-wrap>Sector 3, Marathalli                      </span>             </td><td><span style=white-space:pre-wrap>Ice Cream, Desserts                                    </span></td><td>&lt;U+20B9&gt;100                                                                              </td><td>&lt;U+20B9&gt;50                                                                               </td><td>3.5                                                                                            </td><td><span style=white-space:pre-wrap>11  </span>                                                   </td><td><span style=white-space:pre-wrap>4   </span>                                                   </td><td>30 minutes                                                                                     </td></tr>\n",
       "\t<tr><td>ID_1595                                                                                        </td><td><span style=white-space:pre-wrap>Mumbai Central                            </span>             </td><td><span style=white-space:pre-wrap>Italian, Street Food, Fast Food                        </span></td><td>&lt;U+20B9&gt;150                                                                              </td><td>&lt;U+20B9&gt;50                                                                               </td><td>3.6                                                                                            </td><td><span style=white-space:pre-wrap>99  </span>                                                   </td><td><span style=white-space:pre-wrap>30  </span>                                                   </td><td>65 minutes                                                                                     </td></tr>\n",
       "\t<tr><td>ID_5929                                                                                        </td><td><span style=white-space:pre-wrap>Sector 1, Noida                           </span>             </td><td><span style=white-space:pre-wrap>Mughlai, North Indian, Chinese                         </span></td><td>&lt;U+20B9&gt;250                                                                              </td><td>&lt;U+20B9&gt;99                                                                               </td><td>3.7                                                                                            </td><td>176                                                                                            </td><td><span style=white-space:pre-wrap>95  </span>                                                   </td><td>30 minutes                                                                                     </td></tr>\n",
       "\t<tr><td>ID_6123                                                                                        </td><td><span style=white-space:pre-wrap>Rmz Centennial, I Gate, Whitefield        </span>             </td><td><span style=white-space:pre-wrap>Cafe, Beverages                                        </span></td><td>&lt;U+20B9&gt;200                                                                              </td><td>&lt;U+20B9&gt;99                                                                               </td><td>3.2                                                                                            </td><td>521                                                                                            </td><td>235                                                                                            </td><td>65 minutes                                                                                     </td></tr>\n",
       "\t<tr><td>ID_5221                                                                                        </td><td><span style=white-space:pre-wrap>Rmz Centennial, I Gate, Whitefield        </span>             </td><td><span style=white-space:pre-wrap>South Indian, North Indian, Chinese                    </span></td><td>&lt;U+20B9&gt;150                                                                              </td><td>&lt;U+20B9&gt;50                                                                               </td><td>3.8                                                                                            </td><td><span style=white-space:pre-wrap>46  </span>                                                   </td><td><span style=white-space:pre-wrap>18  </span>                                                   </td><td>30 minutes                                                                                     </td></tr>\n",
       "\t<tr><td>ID_3777                                                                                        </td><td><span style=white-space:pre-wrap>Mumbai Central                            </span>             </td><td><span style=white-space:pre-wrap>Beverages, Fast Food                                   </span></td><td>&lt;U+20B9&gt;150                                                                              </td><td>&lt;U+20B9&gt;50                                                                               </td><td>3.7                                                                                            </td><td>108                                                                                            </td><td><span style=white-space:pre-wrap>31  </span>                                                   </td><td>30 minutes                                                                                     </td></tr>\n",
       "\t<tr><td>ID_745                                                                                         </td><td><span style=white-space:pre-wrap>Delhi University-GTB Nagar                </span>             </td><td><span style=white-space:pre-wrap>Chinese, Thai, Asian                                   </span></td><td>&lt;U+20B9&gt;650                                                                              </td><td>&lt;U+20B9&gt;50                                                                               </td><td>4.0                                                                                            </td><td>1731                                                                                           </td><td>1235                                                                                           </td><td>45 minutes                                                                                     </td></tr>\n",
       "\t<tr><td>ID_2970                                                                                        </td><td><span style=white-space:pre-wrap>Delhi University-GTB Nagar                </span>             </td><td><span style=white-space:pre-wrap>Mithai, Street Food                                    </span></td><td>&lt;U+20B9&gt;100                                                                              </td><td>&lt;U+20B9&gt;50                                                                               </td><td>3.9                                                                                            </td><td>110                                                                                            </td><td><span style=white-space:pre-wrap>26  </span>                                                   </td><td>30 minutes                                                                                     </td></tr>\n",
       "\t<tr><td>ID_3474                                                                           </td><td><span style=white-space:pre-wrap>Sector 1, Noida                           </span></td><td>Fast Food, North Indian, Rolls, Chinese, Momos, Mughlai                           </td><td>&lt;U+20B9&gt;200                                                                 </td><td>&lt;U+20B9&gt;50                                                                  </td><td>3.9                                                                               </td><td>562                                                                               </td><td>294                                                                               </td><td>65 minutes                                                                        </td></tr>\n",
       "\t<tr><td>ID_5159                                                                                        </td><td><span style=white-space:pre-wrap>Mumbai Central                            </span>             </td><td><span style=white-space:pre-wrap>North Indian, Chinese, Mughlai                         </span></td><td>&lt;U+20B9&gt;350                                                                              </td><td>&lt;U+20B9&gt;50                                                                               </td><td>3.8                                                                                            </td><td>186                                                                                            </td><td><span style=white-space:pre-wrap>61  </span>                                                   </td><td>30 minutes                                                                                     </td></tr>\n",
       "\t<tr><td>ID_1696                                                                                        </td><td><span style=white-space:pre-wrap>Yerawada, Pune, Maharashtra               </span>             </td><td><span style=white-space:pre-wrap>Chinese, Thai, Indonesian, Italian                     </span></td><td>&lt;U+20B9&gt;800                                                                              </td><td>&lt;U+20B9&gt;50                                                                               </td><td>4.2                                                                                            </td><td>1693                                                                                           </td><td>1239                                                                                           </td><td>45 minutes                                                                                     </td></tr>\n",
       "\t<tr><td>ID_1156                                                                                        </td><td><span style=white-space:pre-wrap>Sector 1, Noida                           </span>             </td><td><span style=white-space:pre-wrap>Burger, Fast Food, Desserts, Beverages                 </span></td><td>&lt;U+20B9&gt;150                                                                              </td><td>&lt;U+20B9&gt;50                                                                               </td><td><span style=white-space:pre-wrap>-  </span>                                                    </td><td><span style=white-space:pre-wrap>-   </span>                                                   </td><td><span style=white-space:pre-wrap>-   </span>                                                   </td><td>30 minutes                                                                                     </td></tr>\n",
       "\t<tr><td>ID_354                                                                                         </td><td><span style=white-space:pre-wrap>Delhi University-GTB Nagar                </span>             </td><td><span style=white-space:pre-wrap>Beverages                                              </span></td><td>&lt;U+20B9&gt;50                                                                               </td><td>&lt;U+20B9&gt;0                                                                                </td><td>3.8                                                                                            </td><td>184                                                                                            </td><td>128                                                                                            </td><td>45 minutes                                                                                     </td></tr>\n",
       "\t<tr><td>ID_6891                                                                                        </td><td><span style=white-space:pre-wrap>Delhi Administration Flats, Timarpur      </span>             </td><td><span style=white-space:pre-wrap>Fast Food                                              </span></td><td>&lt;U+20B9&gt;100                                                                              </td><td>&lt;U+20B9&gt;50                                                                               </td><td>3.5                                                                                            </td><td><span style=white-space:pre-wrap>23  </span>                                                   </td><td><span style=white-space:pre-wrap>5   </span>                                                   </td><td>30 minutes                                                                                     </td></tr>\n",
       "\t<tr><td>ID_6406                                                                                        </td><td><span style=white-space:pre-wrap>Moulali, Kolkata                          </span>             </td><td><span style=white-space:pre-wrap>Biryani, Mughlai                                       </span></td><td>&lt;U+20B9&gt;100                                                                              </td><td>&lt;U+20B9&gt;50                                                                               </td><td>3.6                                                                                            </td><td>353                                                                                            </td><td><span style=white-space:pre-wrap>53  </span>                                                   </td><td>30 minutes                                                                                     </td></tr>\n",
       "\t<tr><td>ID_2141                                                                                        </td><td><span style=white-space:pre-wrap>Sector 1, Noida                           </span>             </td><td><span style=white-space:pre-wrap>Italian                                                </span></td><td>&lt;U+20B9&gt;100                                                                              </td><td>&lt;U+20B9&gt;50                                                                               </td><td><span style=white-space:pre-wrap>-  </span>                                                    </td><td><span style=white-space:pre-wrap>-   </span>                                                   </td><td><span style=white-space:pre-wrap>-   </span>                                                   </td><td>30 minutes                                                                                     </td></tr>\n",
       "\t<tr><td>ID_3355                                                                                        </td><td><span style=white-space:pre-wrap>Dockyard Road, Mumbai CST Area            </span>             </td><td><span style=white-space:pre-wrap>Chinese, North Indian, South Indian, Fast Food         </span></td><td>&lt;U+20B9&gt;200                                                                              </td><td>&lt;U+20B9&gt;50                                                                               </td><td>3.7                                                                                            </td><td>139                                                                                            </td><td><span style=white-space:pre-wrap>47  </span>                                                   </td><td>30 minutes                                                                                     </td></tr>\n",
       "\t<tr><td>ID_5262                                                                                        </td><td><span style=white-space:pre-wrap>Pune University                           </span>             </td><td><span style=white-space:pre-wrap>Kerala, Bihari                                         </span></td><td>&lt;U+20B9&gt;150                                                                              </td><td>&lt;U+20B9&gt;50                                                                               </td><td><span style=white-space:pre-wrap>-  </span>                                                    </td><td><span style=white-space:pre-wrap>-   </span>                                                   </td><td><span style=white-space:pre-wrap>-   </span>                                                   </td><td>30 minutes                                                                                     </td></tr>\n",
       "\t<tr><td>ID_8148                                                                                        </td><td>Gora Bazar, Rajbari, North Dumdum, Kolkata                                                     </td><td><span style=white-space:pre-wrap>South Indian                                           </span></td><td>&lt;U+20B9&gt;100                                                                              </td><td>&lt;U+20B9&gt;50                                                                               </td><td>3.7                                                                                            </td><td>159                                                                                            </td><td><span style=white-space:pre-wrap>46  </span>                                                   </td><td>30 minutes                                                                                     </td></tr>\n",
       "\t<tr><td>ID_1681                                                                                        </td><td><span style=white-space:pre-wrap>D-Block, Sector 63, Noida                 </span>             </td><td><span style=white-space:pre-wrap>Chinese, North Indian, Rolls, Momos                    </span></td><td>&lt;U+20B9&gt;200                                                                              </td><td>&lt;U+20B9&gt;99                                                                               </td><td>2.8                                                                                            </td><td><span style=white-space:pre-wrap>67  </span>                                                   </td><td><span style=white-space:pre-wrap>23  </span>                                                   </td><td>45 minutes                                                                                     </td></tr>\n",
       "\t<tr><td>ID_3994                                                                                        </td><td><span style=white-space:pre-wrap>Sector 14, Noida                          </span>             </td><td><span style=white-space:pre-wrap>North Indian, Rolls                                    </span></td><td>&lt;U+20B9&gt;150                                                                              </td><td>&lt;U+20B9&gt;50                                                                               </td><td>3.9                                                                                            </td><td>387                                                                                            </td><td>160                                                                                            </td><td>45 minutes                                                                                     </td></tr>\n",
       "\t<tr><td>ID_4012                                                                                        </td><td><span style=white-space:pre-wrap>D-Block, Sector 63, Noida                 </span>             </td><td><span style=white-space:pre-wrap>North Indian, Chinese                                  </span></td><td>&lt;U+20B9&gt;250                                                                              </td><td>&lt;U+20B9&gt;50                                                                               </td><td>3.0                                                                                            </td><td><span style=white-space:pre-wrap>5   </span>                                                   </td><td><span style=white-space:pre-wrap>2   </span>                                                   </td><td>30 minutes                                                                                     </td></tr>\n",
       "\t<tr><td>ID_240                                                                                         </td><td><span style=white-space:pre-wrap>D-Block, Sector 63, Noida                 </span>             </td><td><span style=white-space:pre-wrap>Biryani, North Indian                                  </span></td><td>&lt;U+20B9&gt;200                                                                              </td><td>&lt;U+20B9&gt;99                                                                               </td><td>3.7                                                                                            </td><td>138                                                                                            </td><td><span style=white-space:pre-wrap>26  </span>                                                   </td><td>65 minutes                                                                                     </td></tr>\n",
       "\t<tr><td>ID_4751                                                                                        </td><td><span style=white-space:pre-wrap>Sector 3, Marathalli                      </span>             </td><td><span style=white-space:pre-wrap>North Indian, Chinese, Fast Food                       </span></td><td>&lt;U+20B9&gt;150                                                                              </td><td>&lt;U+20B9&gt;50                                                                               </td><td>3.2                                                                                            </td><td><span style=white-space:pre-wrap>4   </span>                                                   </td><td><span style=white-space:pre-wrap>1   </span>                                                   </td><td>30 minutes                                                                                     </td></tr>\n",
       "\t<tr><td>ID_4944                                                                                        </td><td>Mico Layout, Stage 2, BTM Layout,Bangalore                                                     </td><td><span style=white-space:pre-wrap>Desserts, Ice Cream                                    </span></td><td>&lt;U+20B9&gt;100                                                                              </td><td>&lt;U+20B9&gt;50                                                                               </td><td><span style=white-space:pre-wrap>-  </span>                                                    </td><td><span style=white-space:pre-wrap>-   </span>                                                   </td><td><span style=white-space:pre-wrap>-   </span>                                                   </td><td>45 minutes                                                                                     </td></tr>\n",
       "\t<tr><td>ID_7029                                                                                        </td><td><span style=white-space:pre-wrap>D-Block, Sector 63, Noida                 </span>             </td><td><span style=white-space:pre-wrap>North Indian, Chinese                                  </span></td><td>&lt;U+20B9&gt;100                                                                              </td><td>&lt;U+20B9&gt;99                                                                               </td><td>3.7                                                                                            </td><td>110                                                                                            </td><td><span style=white-space:pre-wrap>38  </span>                                                   </td><td>45 minutes                                                                                     </td></tr>\n",
       "\t<tr><td>ID_6769                                                                                        </td><td><span style=white-space:pre-wrap>Mumbai Central                            </span>             </td><td><span style=white-space:pre-wrap>Fast Food, South Indian, Street Food                   </span></td><td>&lt;U+20B9&gt;150                                                                              </td><td>&lt;U+20B9&gt;50                                                                               </td><td>3.2                                                                                            </td><td><span style=white-space:pre-wrap>15  </span>                                                   </td><td><span style=white-space:pre-wrap>9   </span>                                                   </td><td>45 minutes                                                                                     </td></tr>\n",
       "\t<tr><td>ID_5547                                                                                        </td><td><span style=white-space:pre-wrap>Dockyard Road, Mumbai CST Area            </span>             </td><td><span style=white-space:pre-wrap>North Indian                                           </span></td><td>&lt;U+20B9&gt;150                                                                              </td><td>&lt;U+20B9&gt;50                                                                               </td><td>3.3                                                                                            </td><td><span style=white-space:pre-wrap>44  </span>                                                   </td><td><span style=white-space:pre-wrap>19  </span>                                                   </td><td>45 minutes                                                                                     </td></tr>\n",
       "\t<tr><td>ID_1957                                                                                        </td><td><span style=white-space:pre-wrap>Sector 1, Noida                           </span>             </td><td><span style=white-space:pre-wrap>North Indian, Chinese                                  </span></td><td>&lt;U+20B9&gt;200                                                                              </td><td>&lt;U+20B9&gt;50                                                                               </td><td>3.8                                                                                            </td><td><span style=white-space:pre-wrap>18  </span>                                                   </td><td><span style=white-space:pre-wrap>18  </span>                                                   </td><td>30 minutes                                                                                     </td></tr>\n",
       "\t<tr><td>...</td><td>...</td><td>...</td><td>...</td><td>...</td><td>...</td><td>...</td><td>...</td><td>...</td></tr>\n",
       "\t<tr><td>ID_7501                                                                                     </td><td><span style=white-space:pre-wrap>Delhi Administration Flats, Timarpur      </span>          </td><td><span style=white-space:pre-wrap>North Indian, South Indian                          </span></td><td>&lt;U+20B9&gt;200                                                                           </td><td>&lt;U+20B9&gt;50                                                                            </td><td>2.9                                                                                         </td><td><span style=white-space:pre-wrap>4   </span>                                                </td><td><span style=white-space:pre-wrap>3  </span>                                                 </td><td>NA                                                                                          </td></tr>\n",
       "\t<tr><td>ID_4842                                                                                     </td><td><span style=white-space:pre-wrap>Delhi University-GTB Nagar                </span>          </td><td><span style=white-space:pre-wrap>North Indian                                        </span></td><td>&lt;U+20B9&gt;300                                                                           </td><td>&lt;U+20B9&gt;50                                                                            </td><td>4.3                                                                                         </td><td>636                                                                                         </td><td>159                                                                                         </td><td>NA                                                                                          </td></tr>\n",
       "\t<tr><td>ID_4405                                                                                     </td><td><span style=white-space:pre-wrap>D-Block, Sector 63, Noida                 </span>          </td><td><span style=white-space:pre-wrap>North Indian, Biryani                               </span></td><td>&lt;U+20B9&gt;250                                                                           </td><td>&lt;U+20B9&gt;50                                                                            </td><td>4.0                                                                                         </td><td>967                                                                                         </td><td>318                                                                                         </td><td>NA                                                                                          </td></tr>\n",
       "\t<tr><td>ID_4385                                                                                     </td><td><span style=white-space:pre-wrap>Musi Nagar, Malakpet, Hyderabad           </span>          </td><td><span style=white-space:pre-wrap>South Indian                                        </span></td><td>&lt;U+20B9&gt;50                                                                            </td><td>&lt;U+20B9&gt;50                                                                            </td><td>3.1                                                                                         </td><td><span style=white-space:pre-wrap>5   </span>                                                </td><td><span style=white-space:pre-wrap>1  </span>                                                 </td><td>NA                                                                                          </td></tr>\n",
       "\t<tr><td>ID_1715                                                                                     </td><td><span style=white-space:pre-wrap>Sector 14, Noida                          </span>          </td><td><span style=white-space:pre-wrap>Chinese                                             </span></td><td>&lt;U+20B9&gt;250                                                                           </td><td>&lt;U+20B9&gt;50                                                                            </td><td>NEW                                                                                         </td><td><span style=white-space:pre-wrap>-   </span>                                                </td><td><span style=white-space:pre-wrap>-  </span>                                                 </td><td>NA                                                                                          </td></tr>\n",
       "\t<tr><td>ID_8382                                                                                     </td><td><span style=white-space:pre-wrap>MG Road, Pune                             </span>          </td><td><span style=white-space:pre-wrap>North Indian, Street Food                           </span></td><td>&lt;U+20B9&gt;200                                                                           </td><td>&lt;U+20B9&gt;50                                                                            </td><td>3.9                                                                                         </td><td>175                                                                                         </td><td>59                                                                                          </td><td>NA                                                                                          </td></tr>\n",
       "\t<tr><td>ID_1572                                                                                     </td><td><span style=white-space:pre-wrap>Sector 14, Noida                          </span>          </td><td><span style=white-space:pre-wrap>North Indian, Chinese                               </span></td><td>&lt;U+20B9&gt;250                                                                           </td><td>&lt;U+20B9&gt;50                                                                            </td><td>2.8                                                                                         </td><td><span style=white-space:pre-wrap>15  </span>                                                </td><td><span style=white-space:pre-wrap>6  </span>                                                 </td><td>NA                                                                                          </td></tr>\n",
       "\t<tr><td>ID_3970                                                                                     </td><td><span style=white-space:pre-wrap>Nathan Road, Mangaldas Road, Pune         </span>          </td><td><span style=white-space:pre-wrap>Burger, Fast Food                                   </span></td><td>&lt;U+20B9&gt;200                                                                           </td><td>&lt;U+20B9&gt;99                                                                            </td><td>3.8                                                                                         </td><td>220                                                                                         </td><td>42                                                                                          </td><td>NA                                                                                          </td></tr>\n",
       "\t<tr><td>ID_1567                                                                                     </td><td><span style=white-space:pre-wrap>Babarpur, New Delhi, Delhi                </span>          </td><td><span style=white-space:pre-wrap>Desserts                                            </span></td><td>&lt;U+20B9&gt;100                                                                           </td><td>&lt;U+20B9&gt;50                                                                            </td><td>3.3                                                                                         </td><td><span style=white-space:pre-wrap>10  </span>                                                </td><td><span style=white-space:pre-wrap>4  </span>                                                 </td><td>NA                                                                                          </td></tr>\n",
       "\t<tr><td>ID_5125                                                                                     </td><td><span style=white-space:pre-wrap>FTI College, Law College Road, Pune       </span>          </td><td><span style=white-space:pre-wrap>Fast Food, Pizza, Desserts                          </span></td><td>&lt;U+20B9&gt;200                                                                           </td><td>&lt;U+20B9&gt;50                                                                            </td><td>3.4                                                                                         </td><td><span style=white-space:pre-wrap>20  </span>                                                </td><td><span style=white-space:pre-wrap>5  </span>                                                 </td><td>NA                                                                                          </td></tr>\n",
       "\t<tr><td>ID_5318                                                                                     </td><td><span style=white-space:pre-wrap>Rmz Centennial, I Gate, Whitefield        </span>          </td><td><span style=white-space:pre-wrap>Seafood, Biryani, North Indian                      </span></td><td>&lt;U+20B9&gt;100                                                                           </td><td>&lt;U+20B9&gt;50                                                                            </td><td>3.9                                                                                         </td><td>133                                                                                         </td><td>70                                                                                          </td><td>NA                                                                                          </td></tr>\n",
       "\t<tr><td>ID_7930                                                                                     </td><td><span style=white-space:pre-wrap>MG Road, Pune                             </span>          </td><td><span style=white-space:pre-wrap>North Indian, Maharashtrian, Chinese                </span></td><td>&lt;U+20B9&gt;300                                                                           </td><td>&lt;U+20B9&gt;50                                                                            </td><td><span style=white-space:pre-wrap>-  </span>                                                 </td><td><span style=white-space:pre-wrap>-   </span>                                                </td><td><span style=white-space:pre-wrap>-  </span>                                                 </td><td>NA                                                                                          </td></tr>\n",
       "\t<tr><td>ID_6568                                                                                     </td><td>Mico Layout, Stage 2, BTM Layout,Bangalore                                                  </td><td><span style=white-space:pre-wrap>South Indian, Beverages                             </span></td><td>&lt;U+20B9&gt;50                                                                            </td><td>&lt;U+20B9&gt;50                                                                            </td><td>3.5                                                                                         </td><td><span style=white-space:pre-wrap>11  </span>                                                </td><td><span style=white-space:pre-wrap>7  </span>                                                 </td><td>NA                                                                                          </td></tr>\n",
       "\t<tr><td>ID_5885                                                                                     </td><td><span style=white-space:pre-wrap>Sector 14, Noida                          </span>          </td><td><span style=white-space:pre-wrap>North Indian                                        </span></td><td>&lt;U+20B9&gt;100                                                                           </td><td>&lt;U+20B9&gt;50                                                                            </td><td><span style=white-space:pre-wrap>-  </span>                                                 </td><td><span style=white-space:pre-wrap>-   </span>                                                </td><td><span style=white-space:pre-wrap>-  </span>                                                 </td><td>NA                                                                                          </td></tr>\n",
       "\t<tr><td>ID_5905                                                                                     </td><td>Mico Layout, Stage 2, BTM Layout,Bangalore                                                  </td><td><span style=white-space:pre-wrap>North Indian                                        </span></td><td>&lt;U+20B9&gt;350                                                                           </td><td>&lt;U+20B9&gt;199                                                                           </td><td>3.5                                                                                         </td><td>444                                                                                         </td><td>249                                                                                         </td><td>NA                                                                                          </td></tr>\n",
       "\t<tr><td>ID_2962                                                                                     </td><td><span style=white-space:pre-wrap>FTI College, Law College Road, Pune       </span>          </td><td><span style=white-space:pre-wrap>Rolls, Fast Food                                    </span></td><td>&lt;U+20B9&gt;150                                                                           </td><td>&lt;U+20B9&gt;50                                                                            </td><td><span style=white-space:pre-wrap>-  </span>                                                 </td><td><span style=white-space:pre-wrap>-   </span>                                                </td><td><span style=white-space:pre-wrap>-  </span>                                                 </td><td>NA                                                                                          </td></tr>\n",
       "\t<tr><td>ID_7287                                                                                     </td><td><span style=white-space:pre-wrap>Tejas Nagar Colony, Wadala West, Mumbai   </span>          </td><td><span style=white-space:pre-wrap>Mithai, Street Food                                 </span></td><td>&lt;U+20B9&gt;100                                                                           </td><td>&lt;U+20B9&gt;50                                                                            </td><td>3.7                                                                                         </td><td><span style=white-space:pre-wrap>-   </span>                                                </td><td><span style=white-space:pre-wrap>-  </span>                                                 </td><td>NA                                                                                          </td></tr>\n",
       "\t<tr><td>ID_1343                                                                                     </td><td><span style=white-space:pre-wrap>Panjetan Colony, Malakpet, Hyderabad      </span>          </td><td><span style=white-space:pre-wrap>Bakery                                              </span></td><td>&lt;U+20B9&gt;150                                                                           </td><td>&lt;U+20B9&gt;50                                                                            </td><td>NEW                                                                                         </td><td><span style=white-space:pre-wrap>-   </span>                                                </td><td><span style=white-space:pre-wrap>-  </span>                                                 </td><td>NA                                                                                          </td></tr>\n",
       "\t<tr><td>ID_1784                                                                                     </td><td><span style=white-space:pre-wrap>Rmz Centennial, I Gate, Whitefield        </span>          </td><td><span style=white-space:pre-wrap>North Indian, Bengali, Chinese                      </span></td><td>&lt;U+20B9&gt;200                                                                           </td><td>&lt;U+20B9&gt;50                                                                            </td><td>3.7                                                                                         </td><td><span style=white-space:pre-wrap>56  </span>                                                </td><td>41                                                                                          </td><td>NA                                                                                          </td></tr>\n",
       "\t<tr><td>ID_1395                                                                           </td><td><span style=white-space:pre-wrap>Mumbai Central                            </span></td><td>Asian, Italian, Continental, Desserts, Healthy Food                               </td><td>&lt;U+20B9&gt;800                                                                 </td><td>&lt;U+20B9&gt;99                                                                  </td><td>4.5                                                                               </td><td>1256                                                                              </td><td>731                                                                               </td><td>NA                                                                                </td></tr>\n",
       "\t<tr><td>ID_1046                                                                                     </td><td><span style=white-space:pre-wrap>Rmz Centennial, I Gate, Whitefield        </span>          </td><td><span style=white-space:pre-wrap>South Indian                                        </span></td><td>&lt;U+20B9&gt;100                                                                           </td><td>&lt;U+20B9&gt;50                                                                            </td><td>3.9                                                                                         </td><td><span style=white-space:pre-wrap>16  </span>                                                </td><td><span style=white-space:pre-wrap>8  </span>                                                 </td><td>NA                                                                                          </td></tr>\n",
       "\t<tr><td>ID_5635                                                                           </td><td><span style=white-space:pre-wrap>D-Block, Sector 63, Noida                 </span></td><td>North Indian, Rolls, Chinese, Continental, Fast Food                              </td><td>&lt;U+20B9&gt;150                                                                 </td><td>&lt;U+20B9&gt;50                                                                  </td><td>4.0                                                                               </td><td>313                                                                               </td><td>192                                                                               </td><td>NA                                                                                </td></tr>\n",
       "\t<tr><td>ID_4371                                                                                     </td><td><span style=white-space:pre-wrap>Dockyard Road, Mumbai CST Area            </span>          </td><td><span style=white-space:pre-wrap>Desserts, Beverages                                 </span></td><td>&lt;U+20B9&gt;150                                                                           </td><td>&lt;U+20B9&gt;50                                                                            </td><td>3.3                                                                                         </td><td><span style=white-space:pre-wrap>7   </span>                                                </td><td><span style=white-space:pre-wrap>5  </span>                                                 </td><td>NA                                                                                          </td></tr>\n",
       "\t<tr><td>ID_908                                                                                      </td><td><span style=white-space:pre-wrap>Sector 1, Noida                           </span>          </td><td><span style=white-space:pre-wrap>Biryani                                             </span></td><td>&lt;U+20B9&gt;200                                                                           </td><td>&lt;U+20B9&gt;50                                                                            </td><td>3.3                                                                                         </td><td><span style=white-space:pre-wrap>21  </span>                                                </td><td><span style=white-space:pre-wrap>4  </span>                                                 </td><td>NA                                                                                          </td></tr>\n",
       "\t<tr><td>ID_3418                                                                                     </td><td><span style=white-space:pre-wrap>Musi Nagar, Malakpet, Hyderabad           </span>          </td><td><span style=white-space:pre-wrap>North Indian, Chinese, South Indian, Desserts       </span></td><td>&lt;U+20B9&gt;300                                                                           </td><td>&lt;U+20B9&gt;50                                                                            </td><td>3.4                                                                                         </td><td><span style=white-space:pre-wrap>31  </span>                                                </td><td>12                                                                                          </td><td>NA                                                                                          </td></tr>\n",
       "\t<tr><td>ID_6342                                                                                     </td><td><span style=white-space:pre-wrap>Delhi University-GTB Nagar                </span>          </td><td><span style=white-space:pre-wrap>Fast Food, Chinese                                  </span></td><td>&lt;U+20B9&gt;100                                                                           </td><td>&lt;U+20B9&gt;50                                                                            </td><td>NEW                                                                                         </td><td><span style=white-space:pre-wrap>-   </span>                                                </td><td><span style=white-space:pre-wrap>-  </span>                                                 </td><td>NA                                                                                          </td></tr>\n",
       "\t<tr><td>ID_8495                                                                                     </td><td>Mico Layout, Stage 2, BTM Layout,Bangalore                                                  </td><td><span style=white-space:pre-wrap>Continental, North Indian, Desserts, Beverages      </span></td><td>&lt;U+20B9&gt;250                                                                           </td><td>&lt;U+20B9&gt;50                                                                            </td><td>3.1                                                                                         </td><td><span style=white-space:pre-wrap>5   </span>                                                </td><td><span style=white-space:pre-wrap>1  </span>                                                 </td><td>NA                                                                                          </td></tr>\n",
       "\t<tr><td>ID_7122                                                                                     </td><td><span style=white-space:pre-wrap>Noorkhan Bazaar, Malakpet, Hyderabad      </span>          </td><td><span style=white-space:pre-wrap>Andhra, South Indian                                </span></td><td>&lt;U+20B9&gt;150                                                                           </td><td>&lt;U+20B9&gt;50                                                                            </td><td>3.0                                                                                         </td><td><span style=white-space:pre-wrap>16  </span>                                                </td><td><span style=white-space:pre-wrap>1  </span>                                                 </td><td>NA                                                                                          </td></tr>\n",
       "\t<tr><td>ID_2475                                                                                     </td><td><span style=white-space:pre-wrap>D-Block, Sector 63, Noida                 </span>          </td><td><span style=white-space:pre-wrap>Bakery                                              </span></td><td>&lt;U+20B9&gt;100                                                                           </td><td>&lt;U+20B9&gt;99                                                                            </td><td>3.0                                                                                         </td><td><span style=white-space:pre-wrap>7   </span>                                                </td><td><span style=white-space:pre-wrap>2  </span>                                                 </td><td>NA                                                                                          </td></tr>\n",
       "\t<tr><td>ID_1595                                                                                     </td><td><span style=white-space:pre-wrap>Dockyard Road, Mumbai CST Area            </span>          </td><td><span style=white-space:pre-wrap>Italian, Street Food, Fast Food                     </span></td><td>&lt;U+20B9&gt;150                                                                           </td><td>&lt;U+20B9&gt;50                                                                            </td><td>3.6                                                                                         </td><td><span style=white-space:pre-wrap>99  </span>                                                </td><td>30                                                                                          </td><td>NA                                                                                          </td></tr>\n",
       "</tbody>\n",
       "</table>\n"
      ],
      "text/latex": [
       "\\begin{tabular}{r|lllllllll}\n",
       " Restaurant & Location & Cuisines & Average\\_Cost & Minimum\\_Order & Rating & Votes & Reviews & Delivery\\_Time\\\\\n",
       "\\hline\n",
       "\t ID\\_6321                                               & FTI College, Law College Road, Pune                     & Fast Food, Rolls, Burger, Salad, Wraps                  & <U+20B9>200                                             & <U+20B9>50                                              & 3.5                                                     & 12                                                      & 4                                                       & 30 minutes                                             \\\\\n",
       "\t ID\\_2882                                               & Sector 3, Marathalli                                    & Ice Cream, Desserts                                     & <U+20B9>100                                             & <U+20B9>50                                              & 3.5                                                     & 11                                                      & 4                                                       & 30 minutes                                             \\\\\n",
       "\t ID\\_1595                                               & Mumbai Central                                          & Italian, Street Food, Fast Food                         & <U+20B9>150                                             & <U+20B9>50                                              & 3.6                                                     & 99                                                      & 30                                                      & 65 minutes                                             \\\\\n",
       "\t ID\\_5929                                               & Sector 1, Noida                                         & Mughlai, North Indian, Chinese                          & <U+20B9>250                                             & <U+20B9>99                                              & 3.7                                                     & 176                                                     & 95                                                      & 30 minutes                                             \\\\\n",
       "\t ID\\_6123                                               & Rmz Centennial, I Gate, Whitefield                      & Cafe, Beverages                                         & <U+20B9>200                                             & <U+20B9>99                                              & 3.2                                                     & 521                                                     & 235                                                     & 65 minutes                                             \\\\\n",
       "\t ID\\_5221                                               & Rmz Centennial, I Gate, Whitefield                      & South Indian, North Indian, Chinese                     & <U+20B9>150                                             & <U+20B9>50                                              & 3.8                                                     & 46                                                      & 18                                                      & 30 minutes                                             \\\\\n",
       "\t ID\\_3777                                               & Mumbai Central                                          & Beverages, Fast Food                                    & <U+20B9>150                                             & <U+20B9>50                                              & 3.7                                                     & 108                                                     & 31                                                      & 30 minutes                                             \\\\\n",
       "\t ID\\_745                                                & Delhi University-GTB Nagar                              & Chinese, Thai, Asian                                    & <U+20B9>650                                             & <U+20B9>50                                              & 4.0                                                     & 1731                                                    & 1235                                                    & 45 minutes                                             \\\\\n",
       "\t ID\\_2970                                               & Delhi University-GTB Nagar                              & Mithai, Street Food                                     & <U+20B9>100                                             & <U+20B9>50                                              & 3.9                                                     & 110                                                     & 26                                                      & 30 minutes                                             \\\\\n",
       "\t ID\\_3474                                               & Sector 1, Noida                                         & Fast Food, North Indian, Rolls, Chinese, Momos, Mughlai & <U+20B9>200                                             & <U+20B9>50                                              & 3.9                                                     & 562                                                     & 294                                                     & 65 minutes                                             \\\\\n",
       "\t ID\\_5159                                               & Mumbai Central                                          & North Indian, Chinese, Mughlai                          & <U+20B9>350                                             & <U+20B9>50                                              & 3.8                                                     & 186                                                     & 61                                                      & 30 minutes                                             \\\\\n",
       "\t ID\\_1696                                               & Yerawada, Pune, Maharashtra                             & Chinese, Thai, Indonesian, Italian                      & <U+20B9>800                                             & <U+20B9>50                                              & 4.2                                                     & 1693                                                    & 1239                                                    & 45 minutes                                             \\\\\n",
       "\t ID\\_1156                                               & Sector 1, Noida                                         & Burger, Fast Food, Desserts, Beverages                  & <U+20B9>150                                             & <U+20B9>50                                              & -                                                       & -                                                       & -                                                       & 30 minutes                                             \\\\\n",
       "\t ID\\_354                                                & Delhi University-GTB Nagar                              & Beverages                                               & <U+20B9>50                                              & <U+20B9>0                                               & 3.8                                                     & 184                                                     & 128                                                     & 45 minutes                                             \\\\\n",
       "\t ID\\_6891                                               & Delhi Administration Flats, Timarpur                    & Fast Food                                               & <U+20B9>100                                             & <U+20B9>50                                              & 3.5                                                     & 23                                                      & 5                                                       & 30 minutes                                             \\\\\n",
       "\t ID\\_6406                                               & Moulali, Kolkata                                        & Biryani, Mughlai                                        & <U+20B9>100                                             & <U+20B9>50                                              & 3.6                                                     & 353                                                     & 53                                                      & 30 minutes                                             \\\\\n",
       "\t ID\\_2141                                               & Sector 1, Noida                                         & Italian                                                 & <U+20B9>100                                             & <U+20B9>50                                              & -                                                       & -                                                       & -                                                       & 30 minutes                                             \\\\\n",
       "\t ID\\_3355                                               & Dockyard Road, Mumbai CST Area                          & Chinese, North Indian, South Indian, Fast Food          & <U+20B9>200                                             & <U+20B9>50                                              & 3.7                                                     & 139                                                     & 47                                                      & 30 minutes                                             \\\\\n",
       "\t ID\\_5262                                               & Pune University                                         & Kerala, Bihari                                          & <U+20B9>150                                             & <U+20B9>50                                              & -                                                       & -                                                       & -                                                       & 30 minutes                                             \\\\\n",
       "\t ID\\_8148                                               & Gora Bazar, Rajbari, North Dumdum, Kolkata              & South Indian                                            & <U+20B9>100                                             & <U+20B9>50                                              & 3.7                                                     & 159                                                     & 46                                                      & 30 minutes                                             \\\\\n",
       "\t ID\\_1681                                               & D-Block, Sector 63, Noida                               & Chinese, North Indian, Rolls, Momos                     & <U+20B9>200                                             & <U+20B9>99                                              & 2.8                                                     & 67                                                      & 23                                                      & 45 minutes                                             \\\\\n",
       "\t ID\\_3994                                               & Sector 14, Noida                                        & North Indian, Rolls                                     & <U+20B9>150                                             & <U+20B9>50                                              & 3.9                                                     & 387                                                     & 160                                                     & 45 minutes                                             \\\\\n",
       "\t ID\\_4012                                               & D-Block, Sector 63, Noida                               & North Indian, Chinese                                   & <U+20B9>250                                             & <U+20B9>50                                              & 3.0                                                     & 5                                                       & 2                                                       & 30 minutes                                             \\\\\n",
       "\t ID\\_240                                                & D-Block, Sector 63, Noida                               & Biryani, North Indian                                   & <U+20B9>200                                             & <U+20B9>99                                              & 3.7                                                     & 138                                                     & 26                                                      & 65 minutes                                             \\\\\n",
       "\t ID\\_4751                                               & Sector 3, Marathalli                                    & North Indian, Chinese, Fast Food                        & <U+20B9>150                                             & <U+20B9>50                                              & 3.2                                                     & 4                                                       & 1                                                       & 30 minutes                                             \\\\\n",
       "\t ID\\_4944                                               & Mico Layout, Stage 2, BTM Layout,Bangalore              & Desserts, Ice Cream                                     & <U+20B9>100                                             & <U+20B9>50                                              & -                                                       & -                                                       & -                                                       & 45 minutes                                             \\\\\n",
       "\t ID\\_7029                                               & D-Block, Sector 63, Noida                               & North Indian, Chinese                                   & <U+20B9>100                                             & <U+20B9>99                                              & 3.7                                                     & 110                                                     & 38                                                      & 45 minutes                                             \\\\\n",
       "\t ID\\_6769                                               & Mumbai Central                                          & Fast Food, South Indian, Street Food                    & <U+20B9>150                                             & <U+20B9>50                                              & 3.2                                                     & 15                                                      & 9                                                       & 45 minutes                                             \\\\\n",
       "\t ID\\_5547                                               & Dockyard Road, Mumbai CST Area                          & North Indian                                            & <U+20B9>150                                             & <U+20B9>50                                              & 3.3                                                     & 44                                                      & 19                                                      & 45 minutes                                             \\\\\n",
       "\t ID\\_1957                                               & Sector 1, Noida                                         & North Indian, Chinese                                   & <U+20B9>200                                             & <U+20B9>50                                              & 3.8                                                     & 18                                                      & 18                                                      & 30 minutes                                             \\\\\n",
       "\t ... & ... & ... & ... & ... & ... & ... & ... & ...\\\\\n",
       "\t ID\\_7501                                            & Delhi Administration Flats, Timarpur                 & North Indian, South Indian                           & <U+20B9>200                                          & <U+20B9>50                                           & 2.9                                                  & 4                                                    & 3                                                    & NA                                                  \\\\\n",
       "\t ID\\_4842                                            & Delhi University-GTB Nagar                           & North Indian                                         & <U+20B9>300                                          & <U+20B9>50                                           & 4.3                                                  & 636                                                  & 159                                                  & NA                                                  \\\\\n",
       "\t ID\\_4405                                            & D-Block, Sector 63, Noida                            & North Indian, Biryani                                & <U+20B9>250                                          & <U+20B9>50                                           & 4.0                                                  & 967                                                  & 318                                                  & NA                                                  \\\\\n",
       "\t ID\\_4385                                            & Musi Nagar, Malakpet, Hyderabad                      & South Indian                                         & <U+20B9>50                                           & <U+20B9>50                                           & 3.1                                                  & 5                                                    & 1                                                    & NA                                                  \\\\\n",
       "\t ID\\_1715                                            & Sector 14, Noida                                     & Chinese                                              & <U+20B9>250                                          & <U+20B9>50                                           & NEW                                                  & -                                                    & -                                                    & NA                                                  \\\\\n",
       "\t ID\\_8382                                            & MG Road, Pune                                        & North Indian, Street Food                            & <U+20B9>200                                          & <U+20B9>50                                           & 3.9                                                  & 175                                                  & 59                                                   & NA                                                  \\\\\n",
       "\t ID\\_1572                                            & Sector 14, Noida                                     & North Indian, Chinese                                & <U+20B9>250                                          & <U+20B9>50                                           & 2.8                                                  & 15                                                   & 6                                                    & NA                                                  \\\\\n",
       "\t ID\\_3970                                            & Nathan Road, Mangaldas Road, Pune                    & Burger, Fast Food                                    & <U+20B9>200                                          & <U+20B9>99                                           & 3.8                                                  & 220                                                  & 42                                                   & NA                                                  \\\\\n",
       "\t ID\\_1567                                            & Babarpur, New Delhi, Delhi                           & Desserts                                             & <U+20B9>100                                          & <U+20B9>50                                           & 3.3                                                  & 10                                                   & 4                                                    & NA                                                  \\\\\n",
       "\t ID\\_5125                                            & FTI College, Law College Road, Pune                  & Fast Food, Pizza, Desserts                           & <U+20B9>200                                          & <U+20B9>50                                           & 3.4                                                  & 20                                                   & 5                                                    & NA                                                  \\\\\n",
       "\t ID\\_5318                                            & Rmz Centennial, I Gate, Whitefield                   & Seafood, Biryani, North Indian                       & <U+20B9>100                                          & <U+20B9>50                                           & 3.9                                                  & 133                                                  & 70                                                   & NA                                                  \\\\\n",
       "\t ID\\_7930                                            & MG Road, Pune                                        & North Indian, Maharashtrian, Chinese                 & <U+20B9>300                                          & <U+20B9>50                                           & -                                                    & -                                                    & -                                                    & NA                                                  \\\\\n",
       "\t ID\\_6568                                            & Mico Layout, Stage 2, BTM Layout,Bangalore           & South Indian, Beverages                              & <U+20B9>50                                           & <U+20B9>50                                           & 3.5                                                  & 11                                                   & 7                                                    & NA                                                  \\\\\n",
       "\t ID\\_5885                                            & Sector 14, Noida                                     & North Indian                                         & <U+20B9>100                                          & <U+20B9>50                                           & -                                                    & -                                                    & -                                                    & NA                                                  \\\\\n",
       "\t ID\\_5905                                            & Mico Layout, Stage 2, BTM Layout,Bangalore           & North Indian                                         & <U+20B9>350                                          & <U+20B9>199                                          & 3.5                                                  & 444                                                  & 249                                                  & NA                                                  \\\\\n",
       "\t ID\\_2962                                            & FTI College, Law College Road, Pune                  & Rolls, Fast Food                                     & <U+20B9>150                                          & <U+20B9>50                                           & -                                                    & -                                                    & -                                                    & NA                                                  \\\\\n",
       "\t ID\\_7287                                            & Tejas Nagar Colony, Wadala West, Mumbai              & Mithai, Street Food                                  & <U+20B9>100                                          & <U+20B9>50                                           & 3.7                                                  & -                                                    & -                                                    & NA                                                  \\\\\n",
       "\t ID\\_1343                                            & Panjetan Colony, Malakpet, Hyderabad                 & Bakery                                               & <U+20B9>150                                          & <U+20B9>50                                           & NEW                                                  & -                                                    & -                                                    & NA                                                  \\\\\n",
       "\t ID\\_1784                                            & Rmz Centennial, I Gate, Whitefield                   & North Indian, Bengali, Chinese                       & <U+20B9>200                                          & <U+20B9>50                                           & 3.7                                                  & 56                                                   & 41                                                   & NA                                                  \\\\\n",
       "\t ID\\_1395                                            & Mumbai Central                                       & Asian, Italian, Continental, Desserts, Healthy Food  & <U+20B9>800                                          & <U+20B9>99                                           & 4.5                                                  & 1256                                                 & 731                                                  & NA                                                  \\\\\n",
       "\t ID\\_1046                                            & Rmz Centennial, I Gate, Whitefield                   & South Indian                                         & <U+20B9>100                                          & <U+20B9>50                                           & 3.9                                                  & 16                                                   & 8                                                    & NA                                                  \\\\\n",
       "\t ID\\_5635                                            & D-Block, Sector 63, Noida                            & North Indian, Rolls, Chinese, Continental, Fast Food & <U+20B9>150                                          & <U+20B9>50                                           & 4.0                                                  & 313                                                  & 192                                                  & NA                                                  \\\\\n",
       "\t ID\\_4371                                            & Dockyard Road, Mumbai CST Area                       & Desserts, Beverages                                  & <U+20B9>150                                          & <U+20B9>50                                           & 3.3                                                  & 7                                                    & 5                                                    & NA                                                  \\\\\n",
       "\t ID\\_908                                             & Sector 1, Noida                                      & Biryani                                              & <U+20B9>200                                          & <U+20B9>50                                           & 3.3                                                  & 21                                                   & 4                                                    & NA                                                  \\\\\n",
       "\t ID\\_3418                                            & Musi Nagar, Malakpet, Hyderabad                      & North Indian, Chinese, South Indian, Desserts        & <U+20B9>300                                          & <U+20B9>50                                           & 3.4                                                  & 31                                                   & 12                                                   & NA                                                  \\\\\n",
       "\t ID\\_6342                                            & Delhi University-GTB Nagar                           & Fast Food, Chinese                                   & <U+20B9>100                                          & <U+20B9>50                                           & NEW                                                  & -                                                    & -                                                    & NA                                                  \\\\\n",
       "\t ID\\_8495                                            & Mico Layout, Stage 2, BTM Layout,Bangalore           & Continental, North Indian, Desserts, Beverages       & <U+20B9>250                                          & <U+20B9>50                                           & 3.1                                                  & 5                                                    & 1                                                    & NA                                                  \\\\\n",
       "\t ID\\_7122                                            & Noorkhan Bazaar, Malakpet, Hyderabad                 & Andhra, South Indian                                 & <U+20B9>150                                          & <U+20B9>50                                           & 3.0                                                  & 16                                                   & 1                                                    & NA                                                  \\\\\n",
       "\t ID\\_2475                                            & D-Block, Sector 63, Noida                            & Bakery                                               & <U+20B9>100                                          & <U+20B9>99                                           & 3.0                                                  & 7                                                    & 2                                                    & NA                                                  \\\\\n",
       "\t ID\\_1595                                            & Dockyard Road, Mumbai CST Area                       & Italian, Street Food, Fast Food                      & <U+20B9>150                                          & <U+20B9>50                                           & 3.6                                                  & 99                                                   & 30                                                   & NA                                                  \\\\\n",
       "\\end{tabular}\n"
      ],
      "text/markdown": [
       "\n",
       "| Restaurant | Location | Cuisines | Average_Cost | Minimum_Order | Rating | Votes | Reviews | Delivery_Time |\n",
       "|---|---|---|---|---|---|---|---|---|\n",
       "| ID_6321                                                 | FTI College, Law College Road, Pune                     | Fast Food, Rolls, Burger, Salad, Wraps                  | <U+20B9>200                                             | <U+20B9>50                                              | 3.5                                                     | 12                                                      | 4                                                       | 30 minutes                                              |\n",
       "| ID_2882                                                 | Sector 3, Marathalli                                    | Ice Cream, Desserts                                     | <U+20B9>100                                             | <U+20B9>50                                              | 3.5                                                     | 11                                                      | 4                                                       | 30 minutes                                              |\n",
       "| ID_1595                                                 | Mumbai Central                                          | Italian, Street Food, Fast Food                         | <U+20B9>150                                             | <U+20B9>50                                              | 3.6                                                     | 99                                                      | 30                                                      | 65 minutes                                              |\n",
       "| ID_5929                                                 | Sector 1, Noida                                         | Mughlai, North Indian, Chinese                          | <U+20B9>250                                             | <U+20B9>99                                              | 3.7                                                     | 176                                                     | 95                                                      | 30 minutes                                              |\n",
       "| ID_6123                                                 | Rmz Centennial, I Gate, Whitefield                      | Cafe, Beverages                                         | <U+20B9>200                                             | <U+20B9>99                                              | 3.2                                                     | 521                                                     | 235                                                     | 65 minutes                                              |\n",
       "| ID_5221                                                 | Rmz Centennial, I Gate, Whitefield                      | South Indian, North Indian, Chinese                     | <U+20B9>150                                             | <U+20B9>50                                              | 3.8                                                     | 46                                                      | 18                                                      | 30 minutes                                              |\n",
       "| ID_3777                                                 | Mumbai Central                                          | Beverages, Fast Food                                    | <U+20B9>150                                             | <U+20B9>50                                              | 3.7                                                     | 108                                                     | 31                                                      | 30 minutes                                              |\n",
       "| ID_745                                                  | Delhi University-GTB Nagar                              | Chinese, Thai, Asian                                    | <U+20B9>650                                             | <U+20B9>50                                              | 4.0                                                     | 1731                                                    | 1235                                                    | 45 minutes                                              |\n",
       "| ID_2970                                                 | Delhi University-GTB Nagar                              | Mithai, Street Food                                     | <U+20B9>100                                             | <U+20B9>50                                              | 3.9                                                     | 110                                                     | 26                                                      | 30 minutes                                              |\n",
       "| ID_3474                                                 | Sector 1, Noida                                         | Fast Food, North Indian, Rolls, Chinese, Momos, Mughlai | <U+20B9>200                                             | <U+20B9>50                                              | 3.9                                                     | 562                                                     | 294                                                     | 65 minutes                                              |\n",
       "| ID_5159                                                 | Mumbai Central                                          | North Indian, Chinese, Mughlai                          | <U+20B9>350                                             | <U+20B9>50                                              | 3.8                                                     | 186                                                     | 61                                                      | 30 minutes                                              |\n",
       "| ID_1696                                                 | Yerawada, Pune, Maharashtra                             | Chinese, Thai, Indonesian, Italian                      | <U+20B9>800                                             | <U+20B9>50                                              | 4.2                                                     | 1693                                                    | 1239                                                    | 45 minutes                                              |\n",
       "| ID_1156                                                 | Sector 1, Noida                                         | Burger, Fast Food, Desserts, Beverages                  | <U+20B9>150                                             | <U+20B9>50                                              | -                                                       | -                                                       | -                                                       | 30 minutes                                              |\n",
       "| ID_354                                                  | Delhi University-GTB Nagar                              | Beverages                                               | <U+20B9>50                                              | <U+20B9>0                                               | 3.8                                                     | 184                                                     | 128                                                     | 45 minutes                                              |\n",
       "| ID_6891                                                 | Delhi Administration Flats, Timarpur                    | Fast Food                                               | <U+20B9>100                                             | <U+20B9>50                                              | 3.5                                                     | 23                                                      | 5                                                       | 30 minutes                                              |\n",
       "| ID_6406                                                 | Moulali, Kolkata                                        | Biryani, Mughlai                                        | <U+20B9>100                                             | <U+20B9>50                                              | 3.6                                                     | 353                                                     | 53                                                      | 30 minutes                                              |\n",
       "| ID_2141                                                 | Sector 1, Noida                                         | Italian                                                 | <U+20B9>100                                             | <U+20B9>50                                              | -                                                       | -                                                       | -                                                       | 30 minutes                                              |\n",
       "| ID_3355                                                 | Dockyard Road, Mumbai CST Area                          | Chinese, North Indian, South Indian, Fast Food          | <U+20B9>200                                             | <U+20B9>50                                              | 3.7                                                     | 139                                                     | 47                                                      | 30 minutes                                              |\n",
       "| ID_5262                                                 | Pune University                                         | Kerala, Bihari                                          | <U+20B9>150                                             | <U+20B9>50                                              | -                                                       | -                                                       | -                                                       | 30 minutes                                              |\n",
       "| ID_8148                                                 | Gora Bazar, Rajbari, North Dumdum, Kolkata              | South Indian                                            | <U+20B9>100                                             | <U+20B9>50                                              | 3.7                                                     | 159                                                     | 46                                                      | 30 minutes                                              |\n",
       "| ID_1681                                                 | D-Block, Sector 63, Noida                               | Chinese, North Indian, Rolls, Momos                     | <U+20B9>200                                             | <U+20B9>99                                              | 2.8                                                     | 67                                                      | 23                                                      | 45 minutes                                              |\n",
       "| ID_3994                                                 | Sector 14, Noida                                        | North Indian, Rolls                                     | <U+20B9>150                                             | <U+20B9>50                                              | 3.9                                                     | 387                                                     | 160                                                     | 45 minutes                                              |\n",
       "| ID_4012                                                 | D-Block, Sector 63, Noida                               | North Indian, Chinese                                   | <U+20B9>250                                             | <U+20B9>50                                              | 3.0                                                     | 5                                                       | 2                                                       | 30 minutes                                              |\n",
       "| ID_240                                                  | D-Block, Sector 63, Noida                               | Biryani, North Indian                                   | <U+20B9>200                                             | <U+20B9>99                                              | 3.7                                                     | 138                                                     | 26                                                      | 65 minutes                                              |\n",
       "| ID_4751                                                 | Sector 3, Marathalli                                    | North Indian, Chinese, Fast Food                        | <U+20B9>150                                             | <U+20B9>50                                              | 3.2                                                     | 4                                                       | 1                                                       | 30 minutes                                              |\n",
       "| ID_4944                                                 | Mico Layout, Stage 2, BTM Layout,Bangalore              | Desserts, Ice Cream                                     | <U+20B9>100                                             | <U+20B9>50                                              | -                                                       | -                                                       | -                                                       | 45 minutes                                              |\n",
       "| ID_7029                                                 | D-Block, Sector 63, Noida                               | North Indian, Chinese                                   | <U+20B9>100                                             | <U+20B9>99                                              | 3.7                                                     | 110                                                     | 38                                                      | 45 minutes                                              |\n",
       "| ID_6769                                                 | Mumbai Central                                          | Fast Food, South Indian, Street Food                    | <U+20B9>150                                             | <U+20B9>50                                              | 3.2                                                     | 15                                                      | 9                                                       | 45 minutes                                              |\n",
       "| ID_5547                                                 | Dockyard Road, Mumbai CST Area                          | North Indian                                            | <U+20B9>150                                             | <U+20B9>50                                              | 3.3                                                     | 44                                                      | 19                                                      | 45 minutes                                              |\n",
       "| ID_1957                                                 | Sector 1, Noida                                         | North Indian, Chinese                                   | <U+20B9>200                                             | <U+20B9>50                                              | 3.8                                                     | 18                                                      | 18                                                      | 30 minutes                                              |\n",
       "| ... | ... | ... | ... | ... | ... | ... | ... | ... |\n",
       "| ID_7501                                              | Delhi Administration Flats, Timarpur                 | North Indian, South Indian                           | <U+20B9>200                                          | <U+20B9>50                                           | 2.9                                                  | 4                                                    | 3                                                    | NA                                                   |\n",
       "| ID_4842                                              | Delhi University-GTB Nagar                           | North Indian                                         | <U+20B9>300                                          | <U+20B9>50                                           | 4.3                                                  | 636                                                  | 159                                                  | NA                                                   |\n",
       "| ID_4405                                              | D-Block, Sector 63, Noida                            | North Indian, Biryani                                | <U+20B9>250                                          | <U+20B9>50                                           | 4.0                                                  | 967                                                  | 318                                                  | NA                                                   |\n",
       "| ID_4385                                              | Musi Nagar, Malakpet, Hyderabad                      | South Indian                                         | <U+20B9>50                                           | <U+20B9>50                                           | 3.1                                                  | 5                                                    | 1                                                    | NA                                                   |\n",
       "| ID_1715                                              | Sector 14, Noida                                     | Chinese                                              | <U+20B9>250                                          | <U+20B9>50                                           | NEW                                                  | -                                                    | -                                                    | NA                                                   |\n",
       "| ID_8382                                              | MG Road, Pune                                        | North Indian, Street Food                            | <U+20B9>200                                          | <U+20B9>50                                           | 3.9                                                  | 175                                                  | 59                                                   | NA                                                   |\n",
       "| ID_1572                                              | Sector 14, Noida                                     | North Indian, Chinese                                | <U+20B9>250                                          | <U+20B9>50                                           | 2.8                                                  | 15                                                   | 6                                                    | NA                                                   |\n",
       "| ID_3970                                              | Nathan Road, Mangaldas Road, Pune                    | Burger, Fast Food                                    | <U+20B9>200                                          | <U+20B9>99                                           | 3.8                                                  | 220                                                  | 42                                                   | NA                                                   |\n",
       "| ID_1567                                              | Babarpur, New Delhi, Delhi                           | Desserts                                             | <U+20B9>100                                          | <U+20B9>50                                           | 3.3                                                  | 10                                                   | 4                                                    | NA                                                   |\n",
       "| ID_5125                                              | FTI College, Law College Road, Pune                  | Fast Food, Pizza, Desserts                           | <U+20B9>200                                          | <U+20B9>50                                           | 3.4                                                  | 20                                                   | 5                                                    | NA                                                   |\n",
       "| ID_5318                                              | Rmz Centennial, I Gate, Whitefield                   | Seafood, Biryani, North Indian                       | <U+20B9>100                                          | <U+20B9>50                                           | 3.9                                                  | 133                                                  | 70                                                   | NA                                                   |\n",
       "| ID_7930                                              | MG Road, Pune                                        | North Indian, Maharashtrian, Chinese                 | <U+20B9>300                                          | <U+20B9>50                                           | -                                                    | -                                                    | -                                                    | NA                                                   |\n",
       "| ID_6568                                              | Mico Layout, Stage 2, BTM Layout,Bangalore           | South Indian, Beverages                              | <U+20B9>50                                           | <U+20B9>50                                           | 3.5                                                  | 11                                                   | 7                                                    | NA                                                   |\n",
       "| ID_5885                                              | Sector 14, Noida                                     | North Indian                                         | <U+20B9>100                                          | <U+20B9>50                                           | -                                                    | -                                                    | -                                                    | NA                                                   |\n",
       "| ID_5905                                              | Mico Layout, Stage 2, BTM Layout,Bangalore           | North Indian                                         | <U+20B9>350                                          | <U+20B9>199                                          | 3.5                                                  | 444                                                  | 249                                                  | NA                                                   |\n",
       "| ID_2962                                              | FTI College, Law College Road, Pune                  | Rolls, Fast Food                                     | <U+20B9>150                                          | <U+20B9>50                                           | -                                                    | -                                                    | -                                                    | NA                                                   |\n",
       "| ID_7287                                              | Tejas Nagar Colony, Wadala West, Mumbai              | Mithai, Street Food                                  | <U+20B9>100                                          | <U+20B9>50                                           | 3.7                                                  | -                                                    | -                                                    | NA                                                   |\n",
       "| ID_1343                                              | Panjetan Colony, Malakpet, Hyderabad                 | Bakery                                               | <U+20B9>150                                          | <U+20B9>50                                           | NEW                                                  | -                                                    | -                                                    | NA                                                   |\n",
       "| ID_1784                                              | Rmz Centennial, I Gate, Whitefield                   | North Indian, Bengali, Chinese                       | <U+20B9>200                                          | <U+20B9>50                                           | 3.7                                                  | 56                                                   | 41                                                   | NA                                                   |\n",
       "| ID_1395                                              | Mumbai Central                                       | Asian, Italian, Continental, Desserts, Healthy Food  | <U+20B9>800                                          | <U+20B9>99                                           | 4.5                                                  | 1256                                                 | 731                                                  | NA                                                   |\n",
       "| ID_1046                                              | Rmz Centennial, I Gate, Whitefield                   | South Indian                                         | <U+20B9>100                                          | <U+20B9>50                                           | 3.9                                                  | 16                                                   | 8                                                    | NA                                                   |\n",
       "| ID_5635                                              | D-Block, Sector 63, Noida                            | North Indian, Rolls, Chinese, Continental, Fast Food | <U+20B9>150                                          | <U+20B9>50                                           | 4.0                                                  | 313                                                  | 192                                                  | NA                                                   |\n",
       "| ID_4371                                              | Dockyard Road, Mumbai CST Area                       | Desserts, Beverages                                  | <U+20B9>150                                          | <U+20B9>50                                           | 3.3                                                  | 7                                                    | 5                                                    | NA                                                   |\n",
       "| ID_908                                               | Sector 1, Noida                                      | Biryani                                              | <U+20B9>200                                          | <U+20B9>50                                           | 3.3                                                  | 21                                                   | 4                                                    | NA                                                   |\n",
       "| ID_3418                                              | Musi Nagar, Malakpet, Hyderabad                      | North Indian, Chinese, South Indian, Desserts        | <U+20B9>300                                          | <U+20B9>50                                           | 3.4                                                  | 31                                                   | 12                                                   | NA                                                   |\n",
       "| ID_6342                                              | Delhi University-GTB Nagar                           | Fast Food, Chinese                                   | <U+20B9>100                                          | <U+20B9>50                                           | NEW                                                  | -                                                    | -                                                    | NA                                                   |\n",
       "| ID_8495                                              | Mico Layout, Stage 2, BTM Layout,Bangalore           | Continental, North Indian, Desserts, Beverages       | <U+20B9>250                                          | <U+20B9>50                                           | 3.1                                                  | 5                                                    | 1                                                    | NA                                                   |\n",
       "| ID_7122                                              | Noorkhan Bazaar, Malakpet, Hyderabad                 | Andhra, South Indian                                 | <U+20B9>150                                          | <U+20B9>50                                           | 3.0                                                  | 16                                                   | 1                                                    | NA                                                   |\n",
       "| ID_2475                                              | D-Block, Sector 63, Noida                            | Bakery                                               | <U+20B9>100                                          | <U+20B9>99                                           | 3.0                                                  | 7                                                    | 2                                                    | NA                                                   |\n",
       "| ID_1595                                              | Dockyard Road, Mumbai CST Area                       | Italian, Street Food, Fast Food                      | <U+20B9>150                                          | <U+20B9>50                                           | 3.6                                                  | 99                                                   | 30                                                   | NA                                                   |\n",
       "\n"
      ],
      "text/plain": [
       "      Restaurant Location                                  \n",
       "1     ID_6321    FTI College, Law College Road, Pune       \n",
       "2     ID_2882    Sector 3, Marathalli                      \n",
       "3     ID_1595    Mumbai Central                            \n",
       "4     ID_5929    Sector 1, Noida                           \n",
       "5     ID_6123    Rmz Centennial, I Gate, Whitefield        \n",
       "6     ID_5221    Rmz Centennial, I Gate, Whitefield        \n",
       "7     ID_3777    Mumbai Central                            \n",
       "8     ID_745     Delhi University-GTB Nagar                \n",
       "9     ID_2970    Delhi University-GTB Nagar                \n",
       "10    ID_3474    Sector 1, Noida                           \n",
       "11    ID_5159    Mumbai Central                            \n",
       "12    ID_1696    Yerawada, Pune, Maharashtra               \n",
       "13    ID_1156    Sector 1, Noida                           \n",
       "14    ID_354     Delhi University-GTB Nagar                \n",
       "15    ID_6891    Delhi Administration Flats, Timarpur      \n",
       "16    ID_6406    Moulali, Kolkata                          \n",
       "17    ID_2141    Sector 1, Noida                           \n",
       "18    ID_3355    Dockyard Road, Mumbai CST Area            \n",
       "19    ID_5262    Pune University                           \n",
       "20    ID_8148    Gora Bazar, Rajbari, North Dumdum, Kolkata\n",
       "21    ID_1681    D-Block, Sector 63, Noida                 \n",
       "22    ID_3994    Sector 14, Noida                          \n",
       "23    ID_4012    D-Block, Sector 63, Noida                 \n",
       "24    ID_240     D-Block, Sector 63, Noida                 \n",
       "25    ID_4751    Sector 3, Marathalli                      \n",
       "26    ID_4944    Mico Layout, Stage 2, BTM Layout,Bangalore\n",
       "27    ID_7029    D-Block, Sector 63, Noida                 \n",
       "28    ID_6769    Mumbai Central                            \n",
       "29    ID_5547    Dockyard Road, Mumbai CST Area            \n",
       "30    ID_1957    Sector 1, Noida                           \n",
       "...   ...        ...                                       \n",
       "13839 ID_7501    Delhi Administration Flats, Timarpur      \n",
       "13840 ID_4842    Delhi University-GTB Nagar                \n",
       "13841 ID_4405    D-Block, Sector 63, Noida                 \n",
       "13842 ID_4385    Musi Nagar, Malakpet, Hyderabad           \n",
       "13843 ID_1715    Sector 14, Noida                          \n",
       "13844 ID_8382    MG Road, Pune                             \n",
       "13845 ID_1572    Sector 14, Noida                          \n",
       "13846 ID_3970    Nathan Road, Mangaldas Road, Pune         \n",
       "13847 ID_1567    Babarpur, New Delhi, Delhi                \n",
       "13848 ID_5125    FTI College, Law College Road, Pune       \n",
       "13849 ID_5318    Rmz Centennial, I Gate, Whitefield        \n",
       "13850 ID_7930    MG Road, Pune                             \n",
       "13851 ID_6568    Mico Layout, Stage 2, BTM Layout,Bangalore\n",
       "13852 ID_5885    Sector 14, Noida                          \n",
       "13853 ID_5905    Mico Layout, Stage 2, BTM Layout,Bangalore\n",
       "13854 ID_2962    FTI College, Law College Road, Pune       \n",
       "13855 ID_7287    Tejas Nagar Colony, Wadala West, Mumbai   \n",
       "13856 ID_1343    Panjetan Colony, Malakpet, Hyderabad      \n",
       "13857 ID_1784    Rmz Centennial, I Gate, Whitefield        \n",
       "13858 ID_1395    Mumbai Central                            \n",
       "13859 ID_1046    Rmz Centennial, I Gate, Whitefield        \n",
       "13860 ID_5635    D-Block, Sector 63, Noida                 \n",
       "13861 ID_4371    Dockyard Road, Mumbai CST Area            \n",
       "13862 ID_908     Sector 1, Noida                           \n",
       "13863 ID_3418    Musi Nagar, Malakpet, Hyderabad           \n",
       "13864 ID_6342    Delhi University-GTB Nagar                \n",
       "13865 ID_8495    Mico Layout, Stage 2, BTM Layout,Bangalore\n",
       "13866 ID_7122    Noorkhan Bazaar, Malakpet, Hyderabad      \n",
       "13867 ID_2475    D-Block, Sector 63, Noida                 \n",
       "13868 ID_1595    Dockyard Road, Mumbai CST Area            \n",
       "      Cuisines                                                Average_Cost\n",
       "1     Fast Food, Rolls, Burger, Salad, Wraps                  <U+20B9>200 \n",
       "2     Ice Cream, Desserts                                     <U+20B9>100 \n",
       "3     Italian, Street Food, Fast Food                         <U+20B9>150 \n",
       "4     Mughlai, North Indian, Chinese                          <U+20B9>250 \n",
       "5     Cafe, Beverages                                         <U+20B9>200 \n",
       "6     South Indian, North Indian, Chinese                     <U+20B9>150 \n",
       "7     Beverages, Fast Food                                    <U+20B9>150 \n",
       "8     Chinese, Thai, Asian                                    <U+20B9>650 \n",
       "9     Mithai, Street Food                                     <U+20B9>100 \n",
       "10    Fast Food, North Indian, Rolls, Chinese, Momos, Mughlai <U+20B9>200 \n",
       "11    North Indian, Chinese, Mughlai                          <U+20B9>350 \n",
       "12    Chinese, Thai, Indonesian, Italian                      <U+20B9>800 \n",
       "13    Burger, Fast Food, Desserts, Beverages                  <U+20B9>150 \n",
       "14    Beverages                                               <U+20B9>50  \n",
       "15    Fast Food                                               <U+20B9>100 \n",
       "16    Biryani, Mughlai                                        <U+20B9>100 \n",
       "17    Italian                                                 <U+20B9>100 \n",
       "18    Chinese, North Indian, South Indian, Fast Food          <U+20B9>200 \n",
       "19    Kerala, Bihari                                          <U+20B9>150 \n",
       "20    South Indian                                            <U+20B9>100 \n",
       "21    Chinese, North Indian, Rolls, Momos                     <U+20B9>200 \n",
       "22    North Indian, Rolls                                     <U+20B9>150 \n",
       "23    North Indian, Chinese                                   <U+20B9>250 \n",
       "24    Biryani, North Indian                                   <U+20B9>200 \n",
       "25    North Indian, Chinese, Fast Food                        <U+20B9>150 \n",
       "26    Desserts, Ice Cream                                     <U+20B9>100 \n",
       "27    North Indian, Chinese                                   <U+20B9>100 \n",
       "28    Fast Food, South Indian, Street Food                    <U+20B9>150 \n",
       "29    North Indian                                            <U+20B9>150 \n",
       "30    North Indian, Chinese                                   <U+20B9>200 \n",
       "...   ...                                                     ...         \n",
       "13839 North Indian, South Indian                              <U+20B9>200 \n",
       "13840 North Indian                                            <U+20B9>300 \n",
       "13841 North Indian, Biryani                                   <U+20B9>250 \n",
       "13842 South Indian                                            <U+20B9>50  \n",
       "13843 Chinese                                                 <U+20B9>250 \n",
       "13844 North Indian, Street Food                               <U+20B9>200 \n",
       "13845 North Indian, Chinese                                   <U+20B9>250 \n",
       "13846 Burger, Fast Food                                       <U+20B9>200 \n",
       "13847 Desserts                                                <U+20B9>100 \n",
       "13848 Fast Food, Pizza, Desserts                              <U+20B9>200 \n",
       "13849 Seafood, Biryani, North Indian                          <U+20B9>100 \n",
       "13850 North Indian, Maharashtrian, Chinese                    <U+20B9>300 \n",
       "13851 South Indian, Beverages                                 <U+20B9>50  \n",
       "13852 North Indian                                            <U+20B9>100 \n",
       "13853 North Indian                                            <U+20B9>350 \n",
       "13854 Rolls, Fast Food                                        <U+20B9>150 \n",
       "13855 Mithai, Street Food                                     <U+20B9>100 \n",
       "13856 Bakery                                                  <U+20B9>150 \n",
       "13857 North Indian, Bengali, Chinese                          <U+20B9>200 \n",
       "13858 Asian, Italian, Continental, Desserts, Healthy Food     <U+20B9>800 \n",
       "13859 South Indian                                            <U+20B9>100 \n",
       "13860 North Indian, Rolls, Chinese, Continental, Fast Food    <U+20B9>150 \n",
       "13861 Desserts, Beverages                                     <U+20B9>150 \n",
       "13862 Biryani                                                 <U+20B9>200 \n",
       "13863 North Indian, Chinese, South Indian, Desserts           <U+20B9>300 \n",
       "13864 Fast Food, Chinese                                      <U+20B9>100 \n",
       "13865 Continental, North Indian, Desserts, Beverages          <U+20B9>250 \n",
       "13866 Andhra, South Indian                                    <U+20B9>150 \n",
       "13867 Bakery                                                  <U+20B9>100 \n",
       "13868 Italian, Street Food, Fast Food                         <U+20B9>150 \n",
       "      Minimum_Order Rating Votes Reviews Delivery_Time\n",
       "1     <U+20B9>50    3.5    12    4       30 minutes   \n",
       "2     <U+20B9>50    3.5    11    4       30 minutes   \n",
       "3     <U+20B9>50    3.6    99    30      65 minutes   \n",
       "4     <U+20B9>99    3.7    176   95      30 minutes   \n",
       "5     <U+20B9>99    3.2    521   235     65 minutes   \n",
       "6     <U+20B9>50    3.8    46    18      30 minutes   \n",
       "7     <U+20B9>50    3.7    108   31      30 minutes   \n",
       "8     <U+20B9>50    4.0    1731  1235    45 minutes   \n",
       "9     <U+20B9>50    3.9    110   26      30 minutes   \n",
       "10    <U+20B9>50    3.9    562   294     65 minutes   \n",
       "11    <U+20B9>50    3.8    186   61      30 minutes   \n",
       "12    <U+20B9>50    4.2    1693  1239    45 minutes   \n",
       "13    <U+20B9>50    -      -     -       30 minutes   \n",
       "14    <U+20B9>0     3.8    184   128     45 minutes   \n",
       "15    <U+20B9>50    3.5    23    5       30 minutes   \n",
       "16    <U+20B9>50    3.6    353   53      30 minutes   \n",
       "17    <U+20B9>50    -      -     -       30 minutes   \n",
       "18    <U+20B9>50    3.7    139   47      30 minutes   \n",
       "19    <U+20B9>50    -      -     -       30 minutes   \n",
       "20    <U+20B9>50    3.7    159   46      30 minutes   \n",
       "21    <U+20B9>99    2.8    67    23      45 minutes   \n",
       "22    <U+20B9>50    3.9    387   160     45 minutes   \n",
       "23    <U+20B9>50    3.0    5     2       30 minutes   \n",
       "24    <U+20B9>99    3.7    138   26      65 minutes   \n",
       "25    <U+20B9>50    3.2    4     1       30 minutes   \n",
       "26    <U+20B9>50    -      -     -       45 minutes   \n",
       "27    <U+20B9>99    3.7    110   38      45 minutes   \n",
       "28    <U+20B9>50    3.2    15    9       45 minutes   \n",
       "29    <U+20B9>50    3.3    44    19      45 minutes   \n",
       "30    <U+20B9>50    3.8    18    18      30 minutes   \n",
       "...   ...           ...    ...   ...     ...          \n",
       "13839 <U+20B9>50    2.9    4     3       NA           \n",
       "13840 <U+20B9>50    4.3    636   159     NA           \n",
       "13841 <U+20B9>50    4.0    967   318     NA           \n",
       "13842 <U+20B9>50    3.1    5     1       NA           \n",
       "13843 <U+20B9>50    NEW    -     -       NA           \n",
       "13844 <U+20B9>50    3.9    175   59      NA           \n",
       "13845 <U+20B9>50    2.8    15    6       NA           \n",
       "13846 <U+20B9>99    3.8    220   42      NA           \n",
       "13847 <U+20B9>50    3.3    10    4       NA           \n",
       "13848 <U+20B9>50    3.4    20    5       NA           \n",
       "13849 <U+20B9>50    3.9    133   70      NA           \n",
       "13850 <U+20B9>50    -      -     -       NA           \n",
       "13851 <U+20B9>50    3.5    11    7       NA           \n",
       "13852 <U+20B9>50    -      -     -       NA           \n",
       "13853 <U+20B9>199   3.5    444   249     NA           \n",
       "13854 <U+20B9>50    -      -     -       NA           \n",
       "13855 <U+20B9>50    3.7    -     -       NA           \n",
       "13856 <U+20B9>50    NEW    -     -       NA           \n",
       "13857 <U+20B9>50    3.7    56    41      NA           \n",
       "13858 <U+20B9>99    4.5    1256  731     NA           \n",
       "13859 <U+20B9>50    3.9    16    8       NA           \n",
       "13860 <U+20B9>50    4.0    313   192     NA           \n",
       "13861 <U+20B9>50    3.3    7     5       NA           \n",
       "13862 <U+20B9>50    3.3    21    4       NA           \n",
       "13863 <U+20B9>50    3.4    31    12      NA           \n",
       "13864 <U+20B9>50    NEW    -     -       NA           \n",
       "13865 <U+20B9>50    3.1    5     1       NA           \n",
       "13866 <U+20B9>50    3.0    16    1       NA           \n",
       "13867 <U+20B9>99    3.0    7     2       NA           \n",
       "13868 <U+20B9>50    3.6    99    30      NA           "
      ]
     },
     "metadata": {},
     "output_type": "display_data"
    }
   ],
   "source": [
    "combi"
   ]
  },
  {
   "cell_type": "code",
   "execution_count": 4,
   "metadata": {},
   "outputs": [
    {
     "name": "stderr",
     "output_type": "stream",
     "text": [
      "Warning message in base::as.numeric(x):\n",
      "\"NAs introduced by coercion\"Warning message in base::as.numeric(x):\n",
      "\"NAs introduced by coercion\"Warning message in base::as.numeric(x):\n",
      "\"NAs introduced by coercion\""
     ]
    },
    {
     "data": {
      "text/html": [
       "2470"
      ],
      "text/latex": [
       "2470"
      ],
      "text/markdown": [
       "2470"
      ],
      "text/plain": [
       "[1] 2470"
      ]
     },
     "metadata": {},
     "output_type": "display_data"
    },
    {
     "data": {
      "text/html": [
       "2616"
      ],
      "text/latex": [
       "2616"
      ],
      "text/markdown": [
       "2616"
      ],
      "text/plain": [
       "[1] 2616"
      ]
     },
     "metadata": {},
     "output_type": "display_data"
    },
    {
     "data": {
      "text/html": [
       "2905"
      ],
      "text/latex": [
       "2905"
      ],
      "text/markdown": [
       "2905"
      ],
      "text/plain": [
       "[1] 2905"
      ]
     },
     "metadata": {},
     "output_type": "display_data"
    }
   ],
   "source": [
    "combi$Rating = as.numeric(combi$Rating)\n",
    "combi$Votes = as.numeric(combi$Votes)\n",
    "combi$Reviews = as.numeric(combi$Reviews)\n",
    "sum(is.na(combi$Rating))\n",
    "sum(is.na(combi$Votes))\n",
    "sum(is.na(combi$Reviews))"
   ]
  },
  {
   "cell_type": "code",
   "execution_count": 5,
   "metadata": {},
   "outputs": [
    {
     "data": {
      "text/html": [
       "2774"
      ],
      "text/latex": [
       "2774"
      ],
      "text/markdown": [
       "2774"
      ],
      "text/plain": [
       "[1] 2774"
      ]
     },
     "metadata": {},
     "output_type": "display_data"
    }
   ],
   "source": [
    "combi$Delivery_Time = gsub(\" [a-z]*\",\"\",combi$Delivery_Time)\n",
    "combi$Delivery_Time = as.numeric(combi$Delivery_Time)\n",
    "sum(is.na(combi$Delivery_Time))"
   ]
  },
  {
   "cell_type": "code",
   "execution_count": 6,
   "metadata": {},
   "outputs": [
    {
     "data": {
      "text/html": [
       "<dl class=dl-horizontal>\n",
       "\t<dt>5538</dt>\n",
       "\t\t<dd>26</dd>\n",
       "\t<dt>7184</dt>\n",
       "\t\t<dd>25</dd>\n",
       "\t<dt>2483</dt>\n",
       "\t\t<dd>24</dd>\n",
       "\t<dt>1209</dt>\n",
       "\t\t<dd>23</dd>\n",
       "\t<dt>4654</dt>\n",
       "\t\t<dd>23</dd>\n",
       "\t<dt>7295</dt>\n",
       "\t\t<dd>23</dd>\n",
       "\t<dt>5321</dt>\n",
       "\t\t<dd>22</dd>\n",
       "\t<dt>4625</dt>\n",
       "\t\t<dd>21</dd>\n",
       "\t<dt>1140</dt>\n",
       "\t\t<dd>20</dd>\n",
       "\t<dt>2301</dt>\n",
       "\t\t<dd>20</dd>\n",
       "\t<dt>7750</dt>\n",
       "\t\t<dd>20</dd>\n",
       "\t<dt>8511</dt>\n",
       "\t\t<dd>19</dd>\n",
       "\t<dt>5708</dt>\n",
       "\t\t<dd>18</dd>\n",
       "\t<dt>188</dt>\n",
       "\t\t<dd>17</dd>\n",
       "\t<dt>3970</dt>\n",
       "\t\t<dd>17</dd>\n",
       "\t<dt>4906</dt>\n",
       "\t\t<dd>17</dd>\n",
       "\t<dt>7564</dt>\n",
       "\t\t<dd>17</dd>\n",
       "\t<dt>3969</dt>\n",
       "\t\t<dd>16</dd>\n",
       "\t<dt>694</dt>\n",
       "\t\t<dd>16</dd>\n",
       "\t<dt>720</dt>\n",
       "\t\t<dd>16</dd>\n",
       "\t<dt>7544</dt>\n",
       "\t\t<dd>16</dd>\n",
       "\t<dt>2542</dt>\n",
       "\t\t<dd>15</dd>\n",
       "\t<dt>2402</dt>\n",
       "\t\t<dd>14</dd>\n",
       "\t<dt>6229</dt>\n",
       "\t\t<dd>14</dd>\n",
       "\t<dt>7260</dt>\n",
       "\t\t<dd>14</dd>\n",
       "\t<dt>5952</dt>\n",
       "\t\t<dd>13</dd>\n",
       "\t<dt>2794</dt>\n",
       "\t\t<dd>12</dd>\n",
       "\t<dt>4652</dt>\n",
       "\t\t<dd>12</dd>\n",
       "\t<dt>5885</dt>\n",
       "\t\t<dd>12</dd>\n",
       "\t<dt>686</dt>\n",
       "\t\t<dd>12</dd>\n",
       "\t<dt>7501</dt>\n",
       "\t\t<dd>12</dd>\n",
       "\t<dt>1015</dt>\n",
       "\t\t<dd>11</dd>\n",
       "\t<dt>1657</dt>\n",
       "\t\t<dd>11</dd>\n",
       "\t<dt>3116</dt>\n",
       "\t\t<dd>11</dd>\n",
       "\t<dt>3203</dt>\n",
       "\t\t<dd>11</dd>\n",
       "\t<dt>4446</dt>\n",
       "\t\t<dd>11</dd>\n",
       "\t<dt>4562</dt>\n",
       "\t\t<dd>11</dd>\n",
       "\t<dt>8495</dt>\n",
       "\t\t<dd>11</dd>\n",
       "\t<dt>8606</dt>\n",
       "\t\t<dd>11</dd>\n",
       "\t<dt>1487</dt>\n",
       "\t\t<dd>10</dd>\n",
       "\t<dt>1635</dt>\n",
       "\t\t<dd>10</dd>\n",
       "\t<dt>3629</dt>\n",
       "\t\t<dd>10</dd>\n",
       "\t<dt>463</dt>\n",
       "\t\t<dd>10</dd>\n",
       "\t<dt>6163</dt>\n",
       "\t\t<dd>10</dd>\n",
       "\t<dt>6899</dt>\n",
       "\t\t<dd>10</dd>\n",
       "\t<dt>847</dt>\n",
       "\t\t<dd>10</dd>\n",
       "\t<dt>8605</dt>\n",
       "\t\t<dd>10</dd>\n",
       "\t<dt>1156</dt>\n",
       "\t\t<dd>9</dd>\n",
       "\t<dt>2356</dt>\n",
       "\t\t<dd>9</dd>\n",
       "\t<dt>2733</dt>\n",
       "\t\t<dd>9</dd>\n",
       "\t<dt>2960</dt>\n",
       "\t\t<dd>9</dd>\n",
       "\t<dt>3272</dt>\n",
       "\t\t<dd>9</dd>\n",
       "\t<dt>4216</dt>\n",
       "\t\t<dd>9</dd>\n",
       "\t<dt>5903</dt>\n",
       "\t\t<dd>9</dd>\n",
       "\t<dt>7142</dt>\n",
       "\t\t<dd>9</dd>\n",
       "\t<dt>7654</dt>\n",
       "\t\t<dd>9</dd>\n",
       "\t<dt>8170</dt>\n",
       "\t\t<dd>9</dd>\n",
       "\t<dt>8418</dt>\n",
       "\t\t<dd>9</dd>\n",
       "\t<dt>1784</dt>\n",
       "\t\t<dd>8</dd>\n",
       "\t<dt>2907</dt>\n",
       "\t\t<dd>8</dd>\n",
       "\t<dt>3871</dt>\n",
       "\t\t<dd>8</dd>\n",
       "\t<dt>4371</dt>\n",
       "\t\t<dd>8</dd>\n",
       "\t<dt>4839</dt>\n",
       "\t\t<dd>8</dd>\n",
       "\t<dt>5084</dt>\n",
       "\t\t<dd>8</dd>\n",
       "\t<dt>6205</dt>\n",
       "\t\t<dd>8</dd>\n",
       "\t<dt>6637</dt>\n",
       "\t\t<dd>8</dd>\n",
       "\t<dt>745</dt>\n",
       "\t\t<dd>8</dd>\n",
       "\t<dt>8438</dt>\n",
       "\t\t<dd>8</dd>\n",
       "\t<dt>1074</dt>\n",
       "\t\t<dd>7</dd>\n",
       "\t<dt>1146</dt>\n",
       "\t\t<dd>7</dd>\n",
       "\t<dt>1454</dt>\n",
       "\t\t<dd>7</dd>\n",
       "\t<dt>1528</dt>\n",
       "\t\t<dd>7</dd>\n",
       "\t<dt>1911</dt>\n",
       "\t\t<dd>7</dd>\n",
       "\t<dt>2905</dt>\n",
       "\t\t<dd>7</dd>\n",
       "\t<dt>4468</dt>\n",
       "\t\t<dd>7</dd>\n",
       "\t<dt>4922</dt>\n",
       "\t\t<dd>7</dd>\n",
       "\t<dt>5002</dt>\n",
       "\t\t<dd>7</dd>\n",
       "\t<dt>5093</dt>\n",
       "\t\t<dd>7</dd>\n",
       "\t<dt>5111</dt>\n",
       "\t\t<dd>7</dd>\n",
       "\t<dt>5252</dt>\n",
       "\t\t<dd>7</dd>\n",
       "\t<dt>5400</dt>\n",
       "\t\t<dd>7</dd>\n",
       "\t<dt>6054</dt>\n",
       "\t\t<dd>7</dd>\n",
       "\t<dt>6366</dt>\n",
       "\t\t<dd>7</dd>\n",
       "\t<dt>7200</dt>\n",
       "\t\t<dd>7</dd>\n",
       "\t<dt>7314</dt>\n",
       "\t\t<dd>7</dd>\n",
       "\t<dt>8026</dt>\n",
       "\t\t<dd>7</dd>\n",
       "\t<dt>8405</dt>\n",
       "\t\t<dd>7</dd>\n",
       "\t<dt>849</dt>\n",
       "\t\t<dd>7</dd>\n",
       "\t<dt>1036</dt>\n",
       "\t\t<dd>6</dd>\n",
       "\t<dt>1042</dt>\n",
       "\t\t<dd>6</dd>\n",
       "\t<dt>1444</dt>\n",
       "\t\t<dd>6</dd>\n",
       "\t<dt>164</dt>\n",
       "\t\t<dd>6</dd>\n",
       "\t<dt>1792</dt>\n",
       "\t\t<dd>6</dd>\n",
       "\t<dt>2326</dt>\n",
       "\t\t<dd>6</dd>\n",
       "\t<dt>244</dt>\n",
       "\t\t<dd>6</dd>\n",
       "\t<dt>2660</dt>\n",
       "\t\t<dd>6</dd>\n",
       "\t<dt>2678</dt>\n",
       "\t\t<dd>6</dd>\n",
       "\t<dt>2772</dt>\n",
       "\t\t<dd>6</dd>\n",
       "\t<dt>2781</dt>\n",
       "\t\t<dd>6</dd>\n",
       "\t<dt>(Other)</dt>\n",
       "\t\t<dd>12769</dd>\n",
       "</dl>\n"
      ],
      "text/latex": [
       "\\begin{description*}\n",
       "\\item[5538] 26\n",
       "\\item[7184] 25\n",
       "\\item[2483] 24\n",
       "\\item[1209] 23\n",
       "\\item[4654] 23\n",
       "\\item[7295] 23\n",
       "\\item[5321] 22\n",
       "\\item[4625] 21\n",
       "\\item[1140] 20\n",
       "\\item[2301] 20\n",
       "\\item[7750] 20\n",
       "\\item[8511] 19\n",
       "\\item[5708] 18\n",
       "\\item[188] 17\n",
       "\\item[3970] 17\n",
       "\\item[4906] 17\n",
       "\\item[7564] 17\n",
       "\\item[3969] 16\n",
       "\\item[694] 16\n",
       "\\item[720] 16\n",
       "\\item[7544] 16\n",
       "\\item[2542] 15\n",
       "\\item[2402] 14\n",
       "\\item[6229] 14\n",
       "\\item[7260] 14\n",
       "\\item[5952] 13\n",
       "\\item[2794] 12\n",
       "\\item[4652] 12\n",
       "\\item[5885] 12\n",
       "\\item[686] 12\n",
       "\\item[7501] 12\n",
       "\\item[1015] 11\n",
       "\\item[1657] 11\n",
       "\\item[3116] 11\n",
       "\\item[3203] 11\n",
       "\\item[4446] 11\n",
       "\\item[4562] 11\n",
       "\\item[8495] 11\n",
       "\\item[8606] 11\n",
       "\\item[1487] 10\n",
       "\\item[1635] 10\n",
       "\\item[3629] 10\n",
       "\\item[463] 10\n",
       "\\item[6163] 10\n",
       "\\item[6899] 10\n",
       "\\item[847] 10\n",
       "\\item[8605] 10\n",
       "\\item[1156] 9\n",
       "\\item[2356] 9\n",
       "\\item[2733] 9\n",
       "\\item[2960] 9\n",
       "\\item[3272] 9\n",
       "\\item[4216] 9\n",
       "\\item[5903] 9\n",
       "\\item[7142] 9\n",
       "\\item[7654] 9\n",
       "\\item[8170] 9\n",
       "\\item[8418] 9\n",
       "\\item[1784] 8\n",
       "\\item[2907] 8\n",
       "\\item[3871] 8\n",
       "\\item[4371] 8\n",
       "\\item[4839] 8\n",
       "\\item[5084] 8\n",
       "\\item[6205] 8\n",
       "\\item[6637] 8\n",
       "\\item[745] 8\n",
       "\\item[8438] 8\n",
       "\\item[1074] 7\n",
       "\\item[1146] 7\n",
       "\\item[1454] 7\n",
       "\\item[1528] 7\n",
       "\\item[1911] 7\n",
       "\\item[2905] 7\n",
       "\\item[4468] 7\n",
       "\\item[4922] 7\n",
       "\\item[5002] 7\n",
       "\\item[5093] 7\n",
       "\\item[5111] 7\n",
       "\\item[5252] 7\n",
       "\\item[5400] 7\n",
       "\\item[6054] 7\n",
       "\\item[6366] 7\n",
       "\\item[7200] 7\n",
       "\\item[7314] 7\n",
       "\\item[8026] 7\n",
       "\\item[8405] 7\n",
       "\\item[849] 7\n",
       "\\item[1036] 6\n",
       "\\item[1042] 6\n",
       "\\item[1444] 6\n",
       "\\item[164] 6\n",
       "\\item[1792] 6\n",
       "\\item[2326] 6\n",
       "\\item[244] 6\n",
       "\\item[2660] 6\n",
       "\\item[2678] 6\n",
       "\\item[2772] 6\n",
       "\\item[2781] 6\n",
       "\\item[(Other)] 12769\n",
       "\\end{description*}\n"
      ],
      "text/markdown": [
       "5538\n",
       ":   267184\n",
       ":   252483\n",
       ":   241209\n",
       ":   234654\n",
       ":   237295\n",
       ":   235321\n",
       ":   224625\n",
       ":   211140\n",
       ":   202301\n",
       ":   207750\n",
       ":   208511\n",
       ":   195708\n",
       ":   18188\n",
       ":   173970\n",
       ":   174906\n",
       ":   177564\n",
       ":   173969\n",
       ":   16694\n",
       ":   16720\n",
       ":   167544\n",
       ":   162542\n",
       ":   152402\n",
       ":   146229\n",
       ":   147260\n",
       ":   145952\n",
       ":   132794\n",
       ":   124652\n",
       ":   125885\n",
       ":   12686\n",
       ":   127501\n",
       ":   121015\n",
       ":   111657\n",
       ":   113116\n",
       ":   113203\n",
       ":   114446\n",
       ":   114562\n",
       ":   118495\n",
       ":   118606\n",
       ":   111487\n",
       ":   101635\n",
       ":   103629\n",
       ":   10463\n",
       ":   106163\n",
       ":   106899\n",
       ":   10847\n",
       ":   108605\n",
       ":   101156\n",
       ":   92356\n",
       ":   92733\n",
       ":   92960\n",
       ":   93272\n",
       ":   94216\n",
       ":   95903\n",
       ":   97142\n",
       ":   97654\n",
       ":   98170\n",
       ":   98418\n",
       ":   91784\n",
       ":   82907\n",
       ":   83871\n",
       ":   84371\n",
       ":   84839\n",
       ":   85084\n",
       ":   86205\n",
       ":   86637\n",
       ":   8745\n",
       ":   88438\n",
       ":   81074\n",
       ":   71146\n",
       ":   71454\n",
       ":   71528\n",
       ":   71911\n",
       ":   72905\n",
       ":   74468\n",
       ":   74922\n",
       ":   75002\n",
       ":   75093\n",
       ":   75111\n",
       ":   75252\n",
       ":   75400\n",
       ":   76054\n",
       ":   76366\n",
       ":   77200\n",
       ":   77314\n",
       ":   78026\n",
       ":   78405\n",
       ":   7849\n",
       ":   71036\n",
       ":   61042\n",
       ":   61444\n",
       ":   6164\n",
       ":   61792\n",
       ":   62326\n",
       ":   6244\n",
       ":   62660\n",
       ":   62678\n",
       ":   62772\n",
       ":   62781\n",
       ":   6(Other)\n",
       ":   12769\n",
       "\n"
      ],
      "text/plain": [
       "   5538    7184    2483    1209    4654    7295    5321    4625    1140    2301 \n",
       "     26      25      24      23      23      23      22      21      20      20 \n",
       "   7750    8511    5708     188    3970    4906    7564    3969     694     720 \n",
       "     20      19      18      17      17      17      17      16      16      16 \n",
       "   7544    2542    2402    6229    7260    5952    2794    4652    5885     686 \n",
       "     16      15      14      14      14      13      12      12      12      12 \n",
       "   7501    1015    1657    3116    3203    4446    4562    8495    8606    1487 \n",
       "     12      11      11      11      11      11      11      11      11      10 \n",
       "   1635    3629     463    6163    6899     847    8605    1156    2356    2733 \n",
       "     10      10      10      10      10      10      10       9       9       9 \n",
       "   2960    3272    4216    5903    7142    7654    8170    8418    1784    2907 \n",
       "      9       9       9       9       9       9       9       9       8       8 \n",
       "   3871    4371    4839    5084    6205    6637     745    8438    1074    1146 \n",
       "      8       8       8       8       8       8       8       8       7       7 \n",
       "   1454    1528    1911    2905    4468    4922    5002    5093    5111    5252 \n",
       "      7       7       7       7       7       7       7       7       7       7 \n",
       "   5400    6054    6366    7200    7314    8026    8405     849    1036    1042 \n",
       "      7       7       7       7       7       7       7       7       6       6 \n",
       "   1444     164    1792    2326     244    2660    2678    2772    2781 (Other) \n",
       "      6       6       6       6       6       6       6       6       6   12769 "
      ]
     },
     "metadata": {},
     "output_type": "display_data"
    }
   ],
   "source": [
    "combi$Restaurant = gsub(\"ID_\",\"\",combi$Restaurant)\n",
    "combi$Restaurant = as.factor(combi$Restaurant)\n",
    "summary(combi$Restaurant)"
   ]
  },
  {
   "cell_type": "code",
   "execution_count": 7,
   "metadata": {},
   "outputs": [
    {
     "data": {
      "text/html": [
       "<table>\n",
       "<thead><tr><th scope=col>Restaurant</th><th scope=col>Location</th><th scope=col>Cuisines</th><th scope=col>Average_Cost</th><th scope=col>Minimum_Order</th><th scope=col>Rating</th><th scope=col>Votes</th><th scope=col>Reviews</th><th scope=col>Delivery_Time</th></tr></thead>\n",
       "<tbody>\n",
       "\t<tr><td>6321                                       </td><td>FTI College, Law College Road, Pune        </td><td>Fast Food, Rolls, Burger, Salad, Wraps     </td><td>&lt;U+20B9&gt;200                          </td><td>&lt;U+20B9&gt;50                           </td><td>3.5                                        </td><td> 12                                        </td><td><span style=white-space:pre-wrap>  4</span></td><td>30                                         </td></tr>\n",
       "\t<tr><td>2882                                                                          </td><td><span style=white-space:pre-wrap>Sector 3, Marathalli               </span>   </td><td><span style=white-space:pre-wrap>Ice Cream, Desserts                   </span></td><td>&lt;U+20B9&gt;100                                                             </td><td>&lt;U+20B9&gt;50                                                              </td><td>3.5                                                                           </td><td> 11                                                                           </td><td><span style=white-space:pre-wrap>  4</span>                                   </td><td>30                                                                            </td></tr>\n",
       "\t<tr><td>1595                                                                          </td><td><span style=white-space:pre-wrap>Mumbai Central                     </span>   </td><td><span style=white-space:pre-wrap>Italian, Street Food, Fast Food       </span></td><td>&lt;U+20B9&gt;150                                                             </td><td>&lt;U+20B9&gt;50                                                              </td><td>3.6                                                                           </td><td> 99                                                                           </td><td> 30                                                                           </td><td>65                                                                            </td></tr>\n",
       "\t<tr><td>5929                                                                          </td><td><span style=white-space:pre-wrap>Sector 1, Noida                    </span>   </td><td><span style=white-space:pre-wrap>Mughlai, North Indian, Chinese        </span></td><td>&lt;U+20B9&gt;250                                                             </td><td>&lt;U+20B9&gt;99                                                              </td><td>3.7                                                                           </td><td>176                                                                           </td><td> 95                                                                           </td><td>30                                                                            </td></tr>\n",
       "\t<tr><td>6123                                                                          </td><td>Rmz Centennial, I Gate, Whitefield                                            </td><td><span style=white-space:pre-wrap>Cafe, Beverages                       </span></td><td>&lt;U+20B9&gt;200                                                             </td><td>&lt;U+20B9&gt;99                                                              </td><td>3.2                                                                           </td><td>521                                                                           </td><td>235                                                                           </td><td>65                                                                            </td></tr>\n",
       "\t<tr><td>5221                                                                          </td><td>Rmz Centennial, I Gate, Whitefield                                            </td><td><span style=white-space:pre-wrap>South Indian, North Indian, Chinese   </span></td><td>&lt;U+20B9&gt;150                                                             </td><td>&lt;U+20B9&gt;50                                                              </td><td>3.8                                                                           </td><td> 46                                                                           </td><td> 18                                                                           </td><td>30                                                                            </td></tr>\n",
       "</tbody>\n",
       "</table>\n"
      ],
      "text/latex": [
       "\\begin{tabular}{r|lllllllll}\n",
       " Restaurant & Location & Cuisines & Average\\_Cost & Minimum\\_Order & Rating & Votes & Reviews & Delivery\\_Time\\\\\n",
       "\\hline\n",
       "\t 6321                                   & FTI College, Law College Road, Pune    & Fast Food, Rolls, Burger, Salad, Wraps & <U+20B9>200                            & <U+20B9>50                             & 3.5                                    &  12                                    &   4                                    & 30                                    \\\\\n",
       "\t 2882                                   & Sector 3, Marathalli                   & Ice Cream, Desserts                    & <U+20B9>100                            & <U+20B9>50                             & 3.5                                    &  11                                    &   4                                    & 30                                    \\\\\n",
       "\t 1595                                   & Mumbai Central                         & Italian, Street Food, Fast Food        & <U+20B9>150                            & <U+20B9>50                             & 3.6                                    &  99                                    &  30                                    & 65                                    \\\\\n",
       "\t 5929                                   & Sector 1, Noida                        & Mughlai, North Indian, Chinese         & <U+20B9>250                            & <U+20B9>99                             & 3.7                                    & 176                                    &  95                                    & 30                                    \\\\\n",
       "\t 6123                                   & Rmz Centennial, I Gate, Whitefield     & Cafe, Beverages                        & <U+20B9>200                            & <U+20B9>99                             & 3.2                                    & 521                                    & 235                                    & 65                                    \\\\\n",
       "\t 5221                                   & Rmz Centennial, I Gate, Whitefield     & South Indian, North Indian, Chinese    & <U+20B9>150                            & <U+20B9>50                             & 3.8                                    &  46                                    &  18                                    & 30                                    \\\\\n",
       "\\end{tabular}\n"
      ],
      "text/markdown": [
       "\n",
       "| Restaurant | Location | Cuisines | Average_Cost | Minimum_Order | Rating | Votes | Reviews | Delivery_Time |\n",
       "|---|---|---|---|---|---|---|---|---|\n",
       "| 6321                                   | FTI College, Law College Road, Pune    | Fast Food, Rolls, Burger, Salad, Wraps | <U+20B9>200                            | <U+20B9>50                             | 3.5                                    |  12                                    |   4                                    | 30                                     |\n",
       "| 2882                                   | Sector 3, Marathalli                   | Ice Cream, Desserts                    | <U+20B9>100                            | <U+20B9>50                             | 3.5                                    |  11                                    |   4                                    | 30                                     |\n",
       "| 1595                                   | Mumbai Central                         | Italian, Street Food, Fast Food        | <U+20B9>150                            | <U+20B9>50                             | 3.6                                    |  99                                    |  30                                    | 65                                     |\n",
       "| 5929                                   | Sector 1, Noida                        | Mughlai, North Indian, Chinese         | <U+20B9>250                            | <U+20B9>99                             | 3.7                                    | 176                                    |  95                                    | 30                                     |\n",
       "| 6123                                   | Rmz Centennial, I Gate, Whitefield     | Cafe, Beverages                        | <U+20B9>200                            | <U+20B9>99                             | 3.2                                    | 521                                    | 235                                    | 65                                     |\n",
       "| 5221                                   | Rmz Centennial, I Gate, Whitefield     | South Indian, North Indian, Chinese    | <U+20B9>150                            | <U+20B9>50                             | 3.8                                    |  46                                    |  18                                    | 30                                     |\n",
       "\n"
      ],
      "text/plain": [
       "  Restaurant Location                           \n",
       "1 6321       FTI College, Law College Road, Pune\n",
       "2 2882       Sector 3, Marathalli               \n",
       "3 1595       Mumbai Central                     \n",
       "4 5929       Sector 1, Noida                    \n",
       "5 6123       Rmz Centennial, I Gate, Whitefield \n",
       "6 5221       Rmz Centennial, I Gate, Whitefield \n",
       "  Cuisines                               Average_Cost Minimum_Order Rating\n",
       "1 Fast Food, Rolls, Burger, Salad, Wraps <U+20B9>200  <U+20B9>50    3.5   \n",
       "2 Ice Cream, Desserts                    <U+20B9>100  <U+20B9>50    3.5   \n",
       "3 Italian, Street Food, Fast Food        <U+20B9>150  <U+20B9>50    3.6   \n",
       "4 Mughlai, North Indian, Chinese         <U+20B9>250  <U+20B9>99    3.7   \n",
       "5 Cafe, Beverages                        <U+20B9>200  <U+20B9>99    3.2   \n",
       "6 South Indian, North Indian, Chinese    <U+20B9>150  <U+20B9>50    3.8   \n",
       "  Votes Reviews Delivery_Time\n",
       "1  12     4     30           \n",
       "2  11     4     30           \n",
       "3  99    30     65           \n",
       "4 176    95     30           \n",
       "5 521   235     65           \n",
       "6  46    18     30           "
      ]
     },
     "metadata": {},
     "output_type": "display_data"
    }
   ],
   "source": [
    "head(combi)"
   ]
  },
  {
   "cell_type": "code",
   "execution_count": 8,
   "metadata": {},
   "outputs": [
    {
     "data": {
      "text/html": [
       "1"
      ],
      "text/latex": [
       "1"
      ],
      "text/markdown": [
       "1"
      ],
      "text/plain": [
       "[1] 1"
      ]
     },
     "metadata": {},
     "output_type": "display_data"
    }
   ],
   "source": [
    "combi$Average_Cost = str_extract(combi$Average_Cost,\"[0-9]+\")\n",
    "combi$Average_Cost = as.numeric(combi$Average_Cost)\n",
    "sum(is.na(combi$Average_Cost))"
   ]
  },
  {
   "cell_type": "code",
   "execution_count": 9,
   "metadata": {},
   "outputs": [
    {
     "data": {
      "text/html": [
       "<table>\n",
       "<thead><tr><th scope=col>Restaurant</th><th scope=col>Location</th><th scope=col>Cuisines</th><th scope=col>Average_Cost</th><th scope=col>Minimum_Order</th><th scope=col>Rating</th><th scope=col>Votes</th><th scope=col>Reviews</th><th scope=col>Delivery_Time</th></tr></thead>\n",
       "<tbody>\n",
       "\t<tr><td>6321                                       </td><td>FTI College, Law College Road, Pune        </td><td>Fast Food, Rolls, Burger, Salad, Wraps     </td><td>200                                        </td><td>&lt;U+20B9&gt;50                           </td><td>3.5                                        </td><td> 12                                        </td><td><span style=white-space:pre-wrap>  4</span></td><td>30                                         </td></tr>\n",
       "\t<tr><td>2882                                                                          </td><td><span style=white-space:pre-wrap>Sector 3, Marathalli               </span>   </td><td><span style=white-space:pre-wrap>Ice Cream, Desserts                   </span></td><td>100                                                                           </td><td>&lt;U+20B9&gt;50                                                              </td><td>3.5                                                                           </td><td> 11                                                                           </td><td><span style=white-space:pre-wrap>  4</span>                                   </td><td>30                                                                            </td></tr>\n",
       "\t<tr><td>1595                                                                          </td><td><span style=white-space:pre-wrap>Mumbai Central                     </span>   </td><td><span style=white-space:pre-wrap>Italian, Street Food, Fast Food       </span></td><td>150                                                                           </td><td>&lt;U+20B9&gt;50                                                              </td><td>3.6                                                                           </td><td> 99                                                                           </td><td> 30                                                                           </td><td>65                                                                            </td></tr>\n",
       "\t<tr><td>5929                                                                          </td><td><span style=white-space:pre-wrap>Sector 1, Noida                    </span>   </td><td><span style=white-space:pre-wrap>Mughlai, North Indian, Chinese        </span></td><td>250                                                                           </td><td>&lt;U+20B9&gt;99                                                              </td><td>3.7                                                                           </td><td>176                                                                           </td><td> 95                                                                           </td><td>30                                                                            </td></tr>\n",
       "\t<tr><td>6123                                                                          </td><td>Rmz Centennial, I Gate, Whitefield                                            </td><td><span style=white-space:pre-wrap>Cafe, Beverages                       </span></td><td>200                                                                           </td><td>&lt;U+20B9&gt;99                                                              </td><td>3.2                                                                           </td><td>521                                                                           </td><td>235                                                                           </td><td>65                                                                            </td></tr>\n",
       "\t<tr><td>5221                                                                          </td><td>Rmz Centennial, I Gate, Whitefield                                            </td><td><span style=white-space:pre-wrap>South Indian, North Indian, Chinese   </span></td><td>150                                                                           </td><td>&lt;U+20B9&gt;50                                                              </td><td>3.8                                                                           </td><td> 46                                                                           </td><td> 18                                                                           </td><td>30                                                                            </td></tr>\n",
       "</tbody>\n",
       "</table>\n"
      ],
      "text/latex": [
       "\\begin{tabular}{r|lllllllll}\n",
       " Restaurant & Location & Cuisines & Average\\_Cost & Minimum\\_Order & Rating & Votes & Reviews & Delivery\\_Time\\\\\n",
       "\\hline\n",
       "\t 6321                                   & FTI College, Law College Road, Pune    & Fast Food, Rolls, Burger, Salad, Wraps & 200                                    & <U+20B9>50                             & 3.5                                    &  12                                    &   4                                    & 30                                    \\\\\n",
       "\t 2882                                   & Sector 3, Marathalli                   & Ice Cream, Desserts                    & 100                                    & <U+20B9>50                             & 3.5                                    &  11                                    &   4                                    & 30                                    \\\\\n",
       "\t 1595                                   & Mumbai Central                         & Italian, Street Food, Fast Food        & 150                                    & <U+20B9>50                             & 3.6                                    &  99                                    &  30                                    & 65                                    \\\\\n",
       "\t 5929                                   & Sector 1, Noida                        & Mughlai, North Indian, Chinese         & 250                                    & <U+20B9>99                             & 3.7                                    & 176                                    &  95                                    & 30                                    \\\\\n",
       "\t 6123                                   & Rmz Centennial, I Gate, Whitefield     & Cafe, Beverages                        & 200                                    & <U+20B9>99                             & 3.2                                    & 521                                    & 235                                    & 65                                    \\\\\n",
       "\t 5221                                   & Rmz Centennial, I Gate, Whitefield     & South Indian, North Indian, Chinese    & 150                                    & <U+20B9>50                             & 3.8                                    &  46                                    &  18                                    & 30                                    \\\\\n",
       "\\end{tabular}\n"
      ],
      "text/markdown": [
       "\n",
       "| Restaurant | Location | Cuisines | Average_Cost | Minimum_Order | Rating | Votes | Reviews | Delivery_Time |\n",
       "|---|---|---|---|---|---|---|---|---|\n",
       "| 6321                                   | FTI College, Law College Road, Pune    | Fast Food, Rolls, Burger, Salad, Wraps | 200                                    | <U+20B9>50                             | 3.5                                    |  12                                    |   4                                    | 30                                     |\n",
       "| 2882                                   | Sector 3, Marathalli                   | Ice Cream, Desserts                    | 100                                    | <U+20B9>50                             | 3.5                                    |  11                                    |   4                                    | 30                                     |\n",
       "| 1595                                   | Mumbai Central                         | Italian, Street Food, Fast Food        | 150                                    | <U+20B9>50                             | 3.6                                    |  99                                    |  30                                    | 65                                     |\n",
       "| 5929                                   | Sector 1, Noida                        | Mughlai, North Indian, Chinese         | 250                                    | <U+20B9>99                             | 3.7                                    | 176                                    |  95                                    | 30                                     |\n",
       "| 6123                                   | Rmz Centennial, I Gate, Whitefield     | Cafe, Beverages                        | 200                                    | <U+20B9>99                             | 3.2                                    | 521                                    | 235                                    | 65                                     |\n",
       "| 5221                                   | Rmz Centennial, I Gate, Whitefield     | South Indian, North Indian, Chinese    | 150                                    | <U+20B9>50                             | 3.8                                    |  46                                    |  18                                    | 30                                     |\n",
       "\n"
      ],
      "text/plain": [
       "  Restaurant Location                           \n",
       "1 6321       FTI College, Law College Road, Pune\n",
       "2 2882       Sector 3, Marathalli               \n",
       "3 1595       Mumbai Central                     \n",
       "4 5929       Sector 1, Noida                    \n",
       "5 6123       Rmz Centennial, I Gate, Whitefield \n",
       "6 5221       Rmz Centennial, I Gate, Whitefield \n",
       "  Cuisines                               Average_Cost Minimum_Order Rating\n",
       "1 Fast Food, Rolls, Burger, Salad, Wraps 200          <U+20B9>50    3.5   \n",
       "2 Ice Cream, Desserts                    100          <U+20B9>50    3.5   \n",
       "3 Italian, Street Food, Fast Food        150          <U+20B9>50    3.6   \n",
       "4 Mughlai, North Indian, Chinese         250          <U+20B9>99    3.7   \n",
       "5 Cafe, Beverages                        200          <U+20B9>99    3.2   \n",
       "6 South Indian, North Indian, Chinese    150          <U+20B9>50    3.8   \n",
       "  Votes Reviews Delivery_Time\n",
       "1  12     4     30           \n",
       "2  11     4     30           \n",
       "3  99    30     65           \n",
       "4 176    95     30           \n",
       "5 521   235     65           \n",
       "6  46    18     30           "
      ]
     },
     "metadata": {},
     "output_type": "display_data"
    }
   ],
   "source": [
    "head(combi)"
   ]
  },
  {
   "cell_type": "markdown",
   "metadata": {},
   "source": [
    "<center><h2>Missing Value Treatment</h2></center>"
   ]
  },
  {
   "cell_type": "code",
   "execution_count": 10,
   "metadata": {},
   "outputs": [
    {
     "data": {
      "text/html": [
       "0"
      ],
      "text/latex": [
       "0"
      ],
      "text/markdown": [
       "0"
      ],
      "text/plain": [
       "[1] 0"
      ]
     },
     "metadata": {},
     "output_type": "display_data"
    }
   ],
   "source": [
    "combi$Minimum_Order = str_extract(combi$Minimum_Order,\"[0-9]+\")\n",
    "combi$Minimum_Order = as.numeric(combi$Minimum_Order)\n",
    "sum(is.na(combi$Minimum_Order))"
   ]
  },
  {
   "cell_type": "code",
   "execution_count": 11,
   "metadata": {},
   "outputs": [],
   "source": [
    "combi$Location = as.factor(combi$Location)"
   ]
  },
  {
   "cell_type": "code",
   "execution_count": 12,
   "metadata": {},
   "outputs": [
    {
     "data": {
      "text/html": [
       "<dl class=dl-horizontal>\n",
       "\t<dt>Babarpur, New Delhi, Delhi</dt>\n",
       "\t\t<dd>337</dd>\n",
       "\t<dt>BTM Layout 1, Electronic City</dt>\n",
       "\t\t<dd>30</dd>\n",
       "\t<dt>Chandni Chowk, Kolkata</dt>\n",
       "\t\t<dd>156</dd>\n",
       "\t<dt>Chatta Bazaar, Malakpet, Hyderabad</dt>\n",
       "\t\t<dd>67</dd>\n",
       "\t<dt>D-Block, Sector 63, Noida</dt>\n",
       "\t\t<dd>1027</dd>\n",
       "\t<dt>Delhi Administration Flats, Timarpur</dt>\n",
       "\t\t<dd>602</dd>\n",
       "\t<dt>Delhi Cantt.</dt>\n",
       "\t\t<dd>397</dd>\n",
       "\t<dt>Delhi High Court, India Gate</dt>\n",
       "\t\t<dd>504</dd>\n",
       "\t<dt>Delhi University-GTB Nagar</dt>\n",
       "\t\t<dd>699</dd>\n",
       "\t<dt>Dockyard Road, Mumbai CST Area</dt>\n",
       "\t\t<dd>362</dd>\n",
       "\t<dt>FTI College, Law College Road, Pune</dt>\n",
       "\t\t<dd>734</dd>\n",
       "\t<dt>Gora Bazar, Rajbari, North Dumdum, Kolkata</dt>\n",
       "\t\t<dd>95</dd>\n",
       "\t<dt>Hyderabad Public School, Begumpet</dt>\n",
       "\t\t<dd>93</dd>\n",
       "\t<dt>Jaya Nagar, Saidabad, Hyderabad</dt>\n",
       "\t\t<dd>61</dd>\n",
       "\t<dt>Laxman Vihar Industrial Area, Sector 3A, Gurgoan</dt>\n",
       "\t\t<dd>611</dd>\n",
       "\t<dt>Majestic</dt>\n",
       "\t\t<dd>411</dd>\n",
       "\t<dt>MG Road, Pune</dt>\n",
       "\t\t<dd>509</dd>\n",
       "\t<dt>Mico Layout, Stage 2, BTM Layout,Bangalore</dt>\n",
       "\t\t<dd>1158</dd>\n",
       "\t<dt>Moulali, Kolkata</dt>\n",
       "\t\t<dd>173</dd>\n",
       "\t<dt>Mumbai Central</dt>\n",
       "\t\t<dd>578</dd>\n",
       "\t<dt>Musi Nagar, Malakpet, Hyderabad</dt>\n",
       "\t\t<dd>91</dd>\n",
       "\t<dt>Nathan Road, Mangaldas Road, Pune</dt>\n",
       "\t\t<dd>476</dd>\n",
       "\t<dt>Noorkhan Bazaar, Malakpet, Hyderabad</dt>\n",
       "\t\t<dd>79</dd>\n",
       "\t<dt>Panjetan Colony, Malakpet, Hyderabad</dt>\n",
       "\t\t<dd>73</dd>\n",
       "\t<dt>Pune University</dt>\n",
       "\t\t<dd>344</dd>\n",
       "\t<dt>Raja Bazar, Kolkata</dt>\n",
       "\t\t<dd>138</dd>\n",
       "\t<dt>Rmz Centennial, I Gate, Whitefield</dt>\n",
       "\t\t<dd>585</dd>\n",
       "\t<dt>Sandhurst Road, Mumbai CST Area</dt>\n",
       "\t\t<dd>463</dd>\n",
       "\t<dt>Sector 1, Noida</dt>\n",
       "\t\t<dd>990</dd>\n",
       "\t<dt>Sector 14, Noida</dt>\n",
       "\t\t<dd>630</dd>\n",
       "\t<dt>Sector 3, Marathalli</dt>\n",
       "\t\t<dd>444</dd>\n",
       "\t<dt>Sector 63A,Gurgaon</dt>\n",
       "\t\t<dd>323</dd>\n",
       "\t<dt>Tejas Nagar Colony, Wadala West, Mumbai</dt>\n",
       "\t\t<dd>133</dd>\n",
       "\t<dt>Tiretti, Kolkata</dt>\n",
       "\t\t<dd>116</dd>\n",
       "\t<dt>Yerawada, Pune, Maharashtra</dt>\n",
       "\t\t<dd>379</dd>\n",
       "</dl>\n"
      ],
      "text/latex": [
       "\\begin{description*}\n",
       "\\item[Babarpur, New Delhi, Delhi] 337\n",
       "\\item[BTM Layout 1, Electronic City] 30\n",
       "\\item[Chandni Chowk, Kolkata] 156\n",
       "\\item[Chatta Bazaar, Malakpet, Hyderabad] 67\n",
       "\\item[D-Block, Sector 63, Noida] 1027\n",
       "\\item[Delhi Administration Flats, Timarpur] 602\n",
       "\\item[Delhi Cantt.] 397\n",
       "\\item[Delhi High Court, India Gate] 504\n",
       "\\item[Delhi University-GTB Nagar] 699\n",
       "\\item[Dockyard Road, Mumbai CST Area] 362\n",
       "\\item[FTI College, Law College Road, Pune] 734\n",
       "\\item[Gora Bazar, Rajbari, North Dumdum, Kolkata] 95\n",
       "\\item[Hyderabad Public School, Begumpet] 93\n",
       "\\item[Jaya Nagar, Saidabad, Hyderabad] 61\n",
       "\\item[Laxman Vihar Industrial Area, Sector 3A, Gurgoan] 611\n",
       "\\item[Majestic] 411\n",
       "\\item[MG Road, Pune] 509\n",
       "\\item[Mico Layout, Stage 2, BTM Layout,Bangalore] 1158\n",
       "\\item[Moulali, Kolkata] 173\n",
       "\\item[Mumbai Central] 578\n",
       "\\item[Musi Nagar, Malakpet, Hyderabad] 91\n",
       "\\item[Nathan Road, Mangaldas Road, Pune] 476\n",
       "\\item[Noorkhan Bazaar, Malakpet, Hyderabad] 79\n",
       "\\item[Panjetan Colony, Malakpet, Hyderabad] 73\n",
       "\\item[Pune University] 344\n",
       "\\item[Raja Bazar, Kolkata] 138\n",
       "\\item[Rmz Centennial, I Gate, Whitefield] 585\n",
       "\\item[Sandhurst Road, Mumbai CST Area] 463\n",
       "\\item[Sector 1, Noida] 990\n",
       "\\item[Sector 14, Noida] 630\n",
       "\\item[Sector 3, Marathalli] 444\n",
       "\\item[Sector 63A,Gurgaon] 323\n",
       "\\item[Tejas Nagar Colony, Wadala West, Mumbai] 133\n",
       "\\item[Tiretti, Kolkata] 116\n",
       "\\item[Yerawada, Pune, Maharashtra] 379\n",
       "\\end{description*}\n"
      ],
      "text/markdown": [
       "Babarpur, New Delhi, Delhi\n",
       ":   337BTM Layout 1, Electronic City\n",
       ":   30Chandni Chowk, Kolkata\n",
       ":   156Chatta Bazaar, Malakpet, Hyderabad\n",
       ":   67D-Block, Sector 63, Noida\n",
       ":   1027Delhi Administration Flats, Timarpur\n",
       ":   602Delhi Cantt.\n",
       ":   397Delhi High Court, India Gate\n",
       ":   504Delhi University-GTB Nagar\n",
       ":   699Dockyard Road, Mumbai CST Area\n",
       ":   362FTI College, Law College Road, Pune\n",
       ":   734Gora Bazar, Rajbari, North Dumdum, Kolkata\n",
       ":   95Hyderabad Public School, Begumpet\n",
       ":   93Jaya Nagar, Saidabad, Hyderabad\n",
       ":   61Laxman Vihar Industrial Area, Sector 3A, Gurgoan\n",
       ":   611Majestic\n",
       ":   411MG Road, Pune\n",
       ":   509Mico Layout, Stage 2, BTM Layout,Bangalore\n",
       ":   1158Moulali, Kolkata\n",
       ":   173Mumbai Central\n",
       ":   578Musi Nagar, Malakpet, Hyderabad\n",
       ":   91Nathan Road, Mangaldas Road, Pune\n",
       ":   476Noorkhan Bazaar, Malakpet, Hyderabad\n",
       ":   79Panjetan Colony, Malakpet, Hyderabad\n",
       ":   73Pune University\n",
       ":   344Raja Bazar, Kolkata\n",
       ":   138Rmz Centennial, I Gate, Whitefield\n",
       ":   585Sandhurst Road, Mumbai CST Area\n",
       ":   463Sector 1, Noida\n",
       ":   990Sector 14, Noida\n",
       ":   630Sector 3, Marathalli\n",
       ":   444Sector 63A,Gurgaon\n",
       ":   323Tejas Nagar Colony, Wadala West, Mumbai\n",
       ":   133Tiretti, Kolkata\n",
       ":   116Yerawada, Pune, Maharashtra\n",
       ":   379\n",
       "\n"
      ],
      "text/plain": [
       "                      Babarpur, New Delhi, Delhi \n",
       "                                             337 \n",
       "                   BTM Layout 1, Electronic City \n",
       "                                              30 \n",
       "                          Chandni Chowk, Kolkata \n",
       "                                             156 \n",
       "              Chatta Bazaar, Malakpet, Hyderabad \n",
       "                                              67 \n",
       "                       D-Block, Sector 63, Noida \n",
       "                                            1027 \n",
       "            Delhi Administration Flats, Timarpur \n",
       "                                             602 \n",
       "                                    Delhi Cantt. \n",
       "                                             397 \n",
       "                    Delhi High Court, India Gate \n",
       "                                             504 \n",
       "                      Delhi University-GTB Nagar \n",
       "                                             699 \n",
       "                  Dockyard Road, Mumbai CST Area \n",
       "                                             362 \n",
       "             FTI College, Law College Road, Pune \n",
       "                                             734 \n",
       "      Gora Bazar, Rajbari, North Dumdum, Kolkata \n",
       "                                              95 \n",
       "               Hyderabad Public School, Begumpet \n",
       "                                              93 \n",
       "                 Jaya Nagar, Saidabad, Hyderabad \n",
       "                                              61 \n",
       "Laxman Vihar Industrial Area, Sector 3A, Gurgoan \n",
       "                                             611 \n",
       "                                        Majestic \n",
       "                                             411 \n",
       "                                   MG Road, Pune \n",
       "                                             509 \n",
       "      Mico Layout, Stage 2, BTM Layout,Bangalore \n",
       "                                            1158 \n",
       "                                Moulali, Kolkata \n",
       "                                             173 \n",
       "                                  Mumbai Central \n",
       "                                             578 \n",
       "                 Musi Nagar, Malakpet, Hyderabad \n",
       "                                              91 \n",
       "               Nathan Road, Mangaldas Road, Pune \n",
       "                                             476 \n",
       "            Noorkhan Bazaar, Malakpet, Hyderabad \n",
       "                                              79 \n",
       "            Panjetan Colony, Malakpet, Hyderabad \n",
       "                                              73 \n",
       "                                 Pune University \n",
       "                                             344 \n",
       "                             Raja Bazar, Kolkata \n",
       "                                             138 \n",
       "              Rmz Centennial, I Gate, Whitefield \n",
       "                                             585 \n",
       "                 Sandhurst Road, Mumbai CST Area \n",
       "                                             463 \n",
       "                                 Sector 1, Noida \n",
       "                                             990 \n",
       "                                Sector 14, Noida \n",
       "                                             630 \n",
       "                            Sector 3, Marathalli \n",
       "                                             444 \n",
       "                              Sector 63A,Gurgaon \n",
       "                                             323 \n",
       "         Tejas Nagar Colony, Wadala West, Mumbai \n",
       "                                             133 \n",
       "                                Tiretti, Kolkata \n",
       "                                             116 \n",
       "                     Yerawada, Pune, Maharashtra \n",
       "                                             379 "
      ]
     },
     "metadata": {},
     "output_type": "display_data"
    }
   ],
   "source": [
    "summary(combi$Location)"
   ]
  },
  {
   "cell_type": "code",
   "execution_count": 13,
   "metadata": {},
   "outputs": [],
   "source": [
    "a = combi$Location"
   ]
  },
  {
   "cell_type": "code",
   "execution_count": 14,
   "metadata": {},
   "outputs": [],
   "source": [
    "combi$Location = as.integer(combi$Location)"
   ]
  },
  {
   "cell_type": "code",
   "execution_count": 15,
   "metadata": {},
   "outputs": [],
   "source": [
    "combi$Location = as.factor(combi$Location)"
   ]
  },
  {
   "cell_type": "code",
   "execution_count": 16,
   "metadata": {},
   "outputs": [
    {
     "data": {
      "text/html": [
       "<dl class=dl-horizontal>\n",
       "\t<dt>1</dt>\n",
       "\t\t<dd>337</dd>\n",
       "\t<dt>2</dt>\n",
       "\t\t<dd>30</dd>\n",
       "\t<dt>3</dt>\n",
       "\t\t<dd>156</dd>\n",
       "\t<dt>4</dt>\n",
       "\t\t<dd>67</dd>\n",
       "\t<dt>5</dt>\n",
       "\t\t<dd>1027</dd>\n",
       "\t<dt>6</dt>\n",
       "\t\t<dd>602</dd>\n",
       "\t<dt>7</dt>\n",
       "\t\t<dd>397</dd>\n",
       "\t<dt>8</dt>\n",
       "\t\t<dd>504</dd>\n",
       "\t<dt>9</dt>\n",
       "\t\t<dd>699</dd>\n",
       "\t<dt>10</dt>\n",
       "\t\t<dd>362</dd>\n",
       "\t<dt>11</dt>\n",
       "\t\t<dd>734</dd>\n",
       "\t<dt>12</dt>\n",
       "\t\t<dd>95</dd>\n",
       "\t<dt>13</dt>\n",
       "\t\t<dd>93</dd>\n",
       "\t<dt>14</dt>\n",
       "\t\t<dd>61</dd>\n",
       "\t<dt>15</dt>\n",
       "\t\t<dd>611</dd>\n",
       "\t<dt>16</dt>\n",
       "\t\t<dd>411</dd>\n",
       "\t<dt>17</dt>\n",
       "\t\t<dd>509</dd>\n",
       "\t<dt>18</dt>\n",
       "\t\t<dd>1158</dd>\n",
       "\t<dt>19</dt>\n",
       "\t\t<dd>173</dd>\n",
       "\t<dt>20</dt>\n",
       "\t\t<dd>578</dd>\n",
       "\t<dt>21</dt>\n",
       "\t\t<dd>91</dd>\n",
       "\t<dt>22</dt>\n",
       "\t\t<dd>476</dd>\n",
       "\t<dt>23</dt>\n",
       "\t\t<dd>79</dd>\n",
       "\t<dt>24</dt>\n",
       "\t\t<dd>73</dd>\n",
       "\t<dt>25</dt>\n",
       "\t\t<dd>344</dd>\n",
       "\t<dt>26</dt>\n",
       "\t\t<dd>138</dd>\n",
       "\t<dt>27</dt>\n",
       "\t\t<dd>585</dd>\n",
       "\t<dt>28</dt>\n",
       "\t\t<dd>463</dd>\n",
       "\t<dt>29</dt>\n",
       "\t\t<dd>990</dd>\n",
       "\t<dt>30</dt>\n",
       "\t\t<dd>630</dd>\n",
       "\t<dt>31</dt>\n",
       "\t\t<dd>444</dd>\n",
       "\t<dt>32</dt>\n",
       "\t\t<dd>323</dd>\n",
       "\t<dt>33</dt>\n",
       "\t\t<dd>133</dd>\n",
       "\t<dt>34</dt>\n",
       "\t\t<dd>116</dd>\n",
       "\t<dt>35</dt>\n",
       "\t\t<dd>379</dd>\n",
       "</dl>\n"
      ],
      "text/latex": [
       "\\begin{description*}\n",
       "\\item[1] 337\n",
       "\\item[2] 30\n",
       "\\item[3] 156\n",
       "\\item[4] 67\n",
       "\\item[5] 1027\n",
       "\\item[6] 602\n",
       "\\item[7] 397\n",
       "\\item[8] 504\n",
       "\\item[9] 699\n",
       "\\item[10] 362\n",
       "\\item[11] 734\n",
       "\\item[12] 95\n",
       "\\item[13] 93\n",
       "\\item[14] 61\n",
       "\\item[15] 611\n",
       "\\item[16] 411\n",
       "\\item[17] 509\n",
       "\\item[18] 1158\n",
       "\\item[19] 173\n",
       "\\item[20] 578\n",
       "\\item[21] 91\n",
       "\\item[22] 476\n",
       "\\item[23] 79\n",
       "\\item[24] 73\n",
       "\\item[25] 344\n",
       "\\item[26] 138\n",
       "\\item[27] 585\n",
       "\\item[28] 463\n",
       "\\item[29] 990\n",
       "\\item[30] 630\n",
       "\\item[31] 444\n",
       "\\item[32] 323\n",
       "\\item[33] 133\n",
       "\\item[34] 116\n",
       "\\item[35] 379\n",
       "\\end{description*}\n"
      ],
      "text/markdown": [
       "1\n",
       ":   3372\n",
       ":   303\n",
       ":   1564\n",
       ":   675\n",
       ":   10276\n",
       ":   6027\n",
       ":   3978\n",
       ":   5049\n",
       ":   69910\n",
       ":   36211\n",
       ":   73412\n",
       ":   9513\n",
       ":   9314\n",
       ":   6115\n",
       ":   61116\n",
       ":   41117\n",
       ":   50918\n",
       ":   115819\n",
       ":   17320\n",
       ":   57821\n",
       ":   9122\n",
       ":   47623\n",
       ":   7924\n",
       ":   7325\n",
       ":   34426\n",
       ":   13827\n",
       ":   58528\n",
       ":   46329\n",
       ":   99030\n",
       ":   63031\n",
       ":   44432\n",
       ":   32333\n",
       ":   13334\n",
       ":   11635\n",
       ":   379\n",
       "\n"
      ],
      "text/plain": [
       "   1    2    3    4    5    6    7    8    9   10   11   12   13   14   15   16 \n",
       " 337   30  156   67 1027  602  397  504  699  362  734   95   93   61  611  411 \n",
       "  17   18   19   20   21   22   23   24   25   26   27   28   29   30   31   32 \n",
       " 509 1158  173  578   91  476   79   73  344  138  585  463  990  630  444  323 \n",
       "  33   34   35 \n",
       " 133  116  379 "
      ]
     },
     "metadata": {},
     "output_type": "display_data"
    }
   ],
   "source": [
    "summary(combi$Location)"
   ]
  },
  {
   "cell_type": "code",
   "execution_count": 17,
   "metadata": {},
   "outputs": [],
   "source": [
    "missing_index = which(is.na(combi$Rating))\n",
    "for(i in missing_index){\n",
    "    item = combi$Rating[i]\n",
    "    combi$Rating[i] = mean(combi$Rating, na.rm = T)\n",
    "}"
   ]
  },
  {
   "cell_type": "code",
   "execution_count": 18,
   "metadata": {},
   "outputs": [
    {
     "data": {
      "text/html": [
       "0"
      ],
      "text/latex": [
       "0"
      ],
      "text/markdown": [
       "0"
      ],
      "text/plain": [
       "[1] 0"
      ]
     },
     "metadata": {},
     "output_type": "display_data"
    }
   ],
   "source": [
    "sum(is.na(combi$Rating))"
   ]
  },
  {
   "cell_type": "code",
   "execution_count": 19,
   "metadata": {},
   "outputs": [],
   "source": [
    "missing_index = which(is.na(combi$Reviews))\n",
    "for(i in missing_index){\n",
    "    item = combi$Reviews[i]\n",
    "    combi$Reviews[i] = mean(combi$Reviews, na.rm = T)\n",
    "}"
   ]
  },
  {
   "cell_type": "code",
   "execution_count": 20,
   "metadata": {},
   "outputs": [
    {
     "data": {
      "text/html": [
       "0"
      ],
      "text/latex": [
       "0"
      ],
      "text/markdown": [
       "0"
      ],
      "text/plain": [
       "[1] 0"
      ]
     },
     "metadata": {},
     "output_type": "display_data"
    }
   ],
   "source": [
    "sum(is.na(combi$Reviews))"
   ]
  },
  {
   "cell_type": "code",
   "execution_count": 21,
   "metadata": {},
   "outputs": [],
   "source": [
    "missing_index = which(is.na(combi$Votes))\n",
    "for(i in missing_index){\n",
    "    item = combi$Votes[i]\n",
    "    combi$Votes[i] = 0\n",
    "}"
   ]
  },
  {
   "cell_type": "code",
   "execution_count": 22,
   "metadata": {},
   "outputs": [
    {
     "data": {
      "text/html": [
       "0"
      ],
      "text/latex": [
       "0"
      ],
      "text/markdown": [
       "0"
      ],
      "text/plain": [
       "[1] 0"
      ]
     },
     "metadata": {},
     "output_type": "display_data"
    }
   ],
   "source": [
    "sum(is.na(combi$Votes))"
   ]
  },
  {
   "cell_type": "code",
   "execution_count": 23,
   "metadata": {},
   "outputs": [],
   "source": [
    "missing_index = which(is.na(combi$Average_Cost))\n",
    "for(i in missing_index){\n",
    "    item = combi$Average_Cost[i]\n",
    "    combi$Average_Cost[i] = mean(combi$Average_Cost, na.rm = T)\n",
    "}"
   ]
  },
  {
   "cell_type": "code",
   "execution_count": 24,
   "metadata": {},
   "outputs": [
    {
     "data": {
      "text/html": [
       "0"
      ],
      "text/latex": [
       "0"
      ],
      "text/markdown": [
       "0"
      ],
      "text/plain": [
       "[1] 0"
      ]
     },
     "metadata": {},
     "output_type": "display_data"
    }
   ],
   "source": [
    "sum(is.na(combi$Average_Cost))"
   ]
  },
  {
   "cell_type": "code",
   "execution_count": 25,
   "metadata": {},
   "outputs": [
    {
     "data": {
      "text/html": [
       "<ol class=list-inline>\n",
       "\t<li>13868</li>\n",
       "\t<li>9</li>\n",
       "</ol>\n"
      ],
      "text/latex": [
       "\\begin{enumerate*}\n",
       "\\item 13868\n",
       "\\item 9\n",
       "\\end{enumerate*}\n"
      ],
      "text/markdown": [
       "1. 13868\n",
       "2. 9\n",
       "\n",
       "\n"
      ],
      "text/plain": [
       "[1] 13868     9"
      ]
     },
     "metadata": {},
     "output_type": "display_data"
    }
   ],
   "source": [
    "dim(combi)"
   ]
  },
  {
   "cell_type": "code",
   "execution_count": 26,
   "metadata": {},
   "outputs": [
    {
     "data": {
      "text/html": [
       "<table>\n",
       "<thead><tr><th scope=col>Restaurant</th><th scope=col>Location</th><th scope=col>Cuisines</th><th scope=col>Average_Cost</th><th scope=col>Minimum_Order</th><th scope=col>Rating</th><th scope=col>Votes</th><th scope=col>Reviews</th><th scope=col>Delivery_Time</th></tr></thead>\n",
       "<tbody>\n",
       "\t<tr><td>6321                                  </td><td>11                                    </td><td>Fast Food, Rolls, Burger, Salad, Wraps</td><td>200                                   </td><td>50                                    </td><td>3.5                                   </td><td> 12                                   </td><td>  4                                   </td><td>30                                    </td></tr>\n",
       "\t<tr><td>2882                                  </td><td>31                                    </td><td>Ice Cream, Desserts                   </td><td>100                                   </td><td>50                                    </td><td>3.5                                   </td><td> 11                                   </td><td>  4                                   </td><td>30                                    </td></tr>\n",
       "\t<tr><td>1595                                  </td><td>20                                    </td><td>Italian, Street Food, Fast Food       </td><td>150                                   </td><td>50                                    </td><td>3.6                                   </td><td> 99                                   </td><td> 30                                   </td><td>65                                    </td></tr>\n",
       "\t<tr><td>5929                                  </td><td>29                                    </td><td>Mughlai, North Indian, Chinese        </td><td>250                                   </td><td>99                                    </td><td>3.7                                   </td><td>176                                   </td><td> 95                                   </td><td>30                                    </td></tr>\n",
       "\t<tr><td>6123                                  </td><td>27                                    </td><td>Cafe, Beverages                       </td><td>200                                   </td><td>99                                    </td><td>3.2                                   </td><td>521                                   </td><td>235                                   </td><td>65                                    </td></tr>\n",
       "\t<tr><td>5221                                  </td><td>27                                    </td><td>South Indian, North Indian, Chinese   </td><td>150                                   </td><td>50                                    </td><td>3.8                                   </td><td> 46                                   </td><td> 18                                   </td><td>30                                    </td></tr>\n",
       "</tbody>\n",
       "</table>\n"
      ],
      "text/latex": [
       "\\begin{tabular}{r|lllllllll}\n",
       " Restaurant & Location & Cuisines & Average\\_Cost & Minimum\\_Order & Rating & Votes & Reviews & Delivery\\_Time\\\\\n",
       "\\hline\n",
       "\t 6321                                   & 11                                     & Fast Food, Rolls, Burger, Salad, Wraps & 200                                    & 50                                     & 3.5                                    &  12                                    &   4                                    & 30                                    \\\\\n",
       "\t 2882                                   & 31                                     & Ice Cream, Desserts                    & 100                                    & 50                                     & 3.5                                    &  11                                    &   4                                    & 30                                    \\\\\n",
       "\t 1595                                   & 20                                     & Italian, Street Food, Fast Food        & 150                                    & 50                                     & 3.6                                    &  99                                    &  30                                    & 65                                    \\\\\n",
       "\t 5929                                   & 29                                     & Mughlai, North Indian, Chinese         & 250                                    & 99                                     & 3.7                                    & 176                                    &  95                                    & 30                                    \\\\\n",
       "\t 6123                                   & 27                                     & Cafe, Beverages                        & 200                                    & 99                                     & 3.2                                    & 521                                    & 235                                    & 65                                    \\\\\n",
       "\t 5221                                   & 27                                     & South Indian, North Indian, Chinese    & 150                                    & 50                                     & 3.8                                    &  46                                    &  18                                    & 30                                    \\\\\n",
       "\\end{tabular}\n"
      ],
      "text/markdown": [
       "\n",
       "| Restaurant | Location | Cuisines | Average_Cost | Minimum_Order | Rating | Votes | Reviews | Delivery_Time |\n",
       "|---|---|---|---|---|---|---|---|---|\n",
       "| 6321                                   | 11                                     | Fast Food, Rolls, Burger, Salad, Wraps | 200                                    | 50                                     | 3.5                                    |  12                                    |   4                                    | 30                                     |\n",
       "| 2882                                   | 31                                     | Ice Cream, Desserts                    | 100                                    | 50                                     | 3.5                                    |  11                                    |   4                                    | 30                                     |\n",
       "| 1595                                   | 20                                     | Italian, Street Food, Fast Food        | 150                                    | 50                                     | 3.6                                    |  99                                    |  30                                    | 65                                     |\n",
       "| 5929                                   | 29                                     | Mughlai, North Indian, Chinese         | 250                                    | 99                                     | 3.7                                    | 176                                    |  95                                    | 30                                     |\n",
       "| 6123                                   | 27                                     | Cafe, Beverages                        | 200                                    | 99                                     | 3.2                                    | 521                                    | 235                                    | 65                                     |\n",
       "| 5221                                   | 27                                     | South Indian, North Indian, Chinese    | 150                                    | 50                                     | 3.8                                    |  46                                    |  18                                    | 30                                     |\n",
       "\n"
      ],
      "text/plain": [
       "  Restaurant Location Cuisines                               Average_Cost\n",
       "1 6321       11       Fast Food, Rolls, Burger, Salad, Wraps 200         \n",
       "2 2882       31       Ice Cream, Desserts                    100         \n",
       "3 1595       20       Italian, Street Food, Fast Food        150         \n",
       "4 5929       29       Mughlai, North Indian, Chinese         250         \n",
       "5 6123       27       Cafe, Beverages                        200         \n",
       "6 5221       27       South Indian, North Indian, Chinese    150         \n",
       "  Minimum_Order Rating Votes Reviews Delivery_Time\n",
       "1 50            3.5     12     4     30           \n",
       "2 50            3.5     11     4     30           \n",
       "3 50            3.6     99    30     65           \n",
       "4 99            3.7    176    95     30           \n",
       "5 99            3.2    521   235     65           \n",
       "6 50            3.8     46    18     30           "
      ]
     },
     "metadata": {},
     "output_type": "display_data"
    }
   ],
   "source": [
    "head(combi)"
   ]
  },
  {
   "cell_type": "code",
   "execution_count": 27,
   "metadata": {},
   "outputs": [
    {
     "name": "stdout",
     "output_type": "stream",
     "text": [
      "Classes 'tbl_df', 'tbl' and 'data.frame':\t13868 obs. of  9 variables:\n",
      " $ Restaurant   : Factor w/ 8661 levels \"0\",\"1\",\"10\",\"100\",..: 5916 2094 664 5479 5696 4694 3088 7169 2192 2752 ...\n",
      " $ Location     : Factor w/ 35 levels \"1\",\"2\",\"3\",\"4\",..: 11 31 20 29 27 27 20 9 9 29 ...\n",
      " $ Cuisines     : chr  \"Fast Food, Rolls, Burger, Salad, Wraps\" \"Ice Cream, Desserts\" \"Italian, Street Food, Fast Food\" \"Mughlai, North Indian, Chinese\" ...\n",
      " $ Average_Cost : num  200 100 150 250 200 150 150 650 100 200 ...\n",
      " $ Minimum_Order: num  50 50 50 99 99 50 50 50 50 50 ...\n",
      " $ Rating       : num  3.5 3.5 3.6 3.7 3.2 3.8 3.7 4 3.9 3.9 ...\n",
      " $ Votes        : num  12 11 99 176 521 ...\n",
      " $ Reviews      : num  4 4 30 95 235 ...\n",
      " $ Delivery_Time: num  30 30 65 30 65 30 30 45 30 65 ...\n"
     ]
    }
   ],
   "source": [
    "str(combi)"
   ]
  },
  {
   "cell_type": "code",
   "execution_count": 28,
   "metadata": {},
   "outputs": [],
   "source": [
    "combi[,4:8] = scale(combi[,4:8])"
   ]
  },
  {
   "cell_type": "code",
   "execution_count": 29,
   "metadata": {},
   "outputs": [],
   "source": [
    "train = combi[1:nrow(train),]\n",
    "test = combi[(nrow(train) + 1):nrow(combi),]\n",
    "test$Delivery_Time = NULL"
   ]
  },
  {
   "cell_type": "code",
   "execution_count": 30,
   "metadata": {},
   "outputs": [
    {
     "data": {
      "text/html": [
       "<table>\n",
       "<thead><tr><th scope=col>Restaurant</th><th scope=col>Location</th><th scope=col>Cuisines</th><th scope=col>Average_Cost</th><th scope=col>Minimum_Order</th><th scope=col>Rating</th><th scope=col>Votes</th><th scope=col>Reviews</th><th scope=col>Delivery_Time</th></tr></thead>\n",
       "<tbody>\n",
       "\t<tr><td>6321                                  </td><td>11                                    </td><td>Fast Food, Rolls, Burger, Salad, Wraps</td><td> 0.009912704                          </td><td>-0.1796816                            </td><td>-0.29555387                           </td><td>-0.36429646                           </td><td>-0.41658990                           </td><td>30                                    </td></tr>\n",
       "\t<tr><td>2882                                  </td><td>31                                    </td><td>Ice Cream, Desserts                   </td><td>-0.827284864                          </td><td>-0.1796816                            </td><td>-0.29555387                           </td><td>-0.36628087                           </td><td>-0.41658990                           </td><td>30                                    </td></tr>\n",
       "\t<tr><td>1595                                  </td><td>20                                    </td><td>Italian, Street Food, Fast Food       </td><td>-0.408686080                          </td><td>-0.1796816                            </td><td>-0.02878771                           </td><td>-0.19165294                           </td><td>-0.32392963                           </td><td>65                                    </td></tr>\n",
       "\t<tr><td>5929                                  </td><td>29                                    </td><td>Mughlai, North Indian, Chinese        </td><td> 0.428511488                          </td><td> 2.4597911                            </td><td> 0.23797844                           </td><td>-0.03885351                           </td><td>-0.09227895                           </td><td>30                                    </td></tr>\n",
       "\t<tr><td>6123                                  </td><td>27                                    </td><td>Cafe, Beverages                       </td><td> 0.009912704                          </td><td> 2.4597911                            </td><td>-1.09585233                           </td><td> 0.64576734                           </td><td> 0.40666097                           </td><td>65                                    </td></tr>\n",
       "\t<tr><td>5221                                  </td><td>27                                    </td><td>South Indian, North Indian, Chinese   </td><td>-0.408686080                          </td><td>-0.1796816                            </td><td> 0.50474459                           </td><td>-0.29682658                           </td><td>-0.36669591                           </td><td>30                                    </td></tr>\n",
       "</tbody>\n",
       "</table>\n"
      ],
      "text/latex": [
       "\\begin{tabular}{r|lllllllll}\n",
       " Restaurant & Location & Cuisines & Average\\_Cost & Minimum\\_Order & Rating & Votes & Reviews & Delivery\\_Time\\\\\n",
       "\\hline\n",
       "\t 6321                                   & 11                                     & Fast Food, Rolls, Burger, Salad, Wraps &  0.009912704                           & -0.1796816                             & -0.29555387                            & -0.36429646                            & -0.41658990                            & 30                                    \\\\\n",
       "\t 2882                                   & 31                                     & Ice Cream, Desserts                    & -0.827284864                           & -0.1796816                             & -0.29555387                            & -0.36628087                            & -0.41658990                            & 30                                    \\\\\n",
       "\t 1595                                   & 20                                     & Italian, Street Food, Fast Food        & -0.408686080                           & -0.1796816                             & -0.02878771                            & -0.19165294                            & -0.32392963                            & 65                                    \\\\\n",
       "\t 5929                                   & 29                                     & Mughlai, North Indian, Chinese         &  0.428511488                           &  2.4597911                             &  0.23797844                            & -0.03885351                            & -0.09227895                            & 30                                    \\\\\n",
       "\t 6123                                   & 27                                     & Cafe, Beverages                        &  0.009912704                           &  2.4597911                             & -1.09585233                            &  0.64576734                            &  0.40666097                            & 65                                    \\\\\n",
       "\t 5221                                   & 27                                     & South Indian, North Indian, Chinese    & -0.408686080                           & -0.1796816                             &  0.50474459                            & -0.29682658                            & -0.36669591                            & 30                                    \\\\\n",
       "\\end{tabular}\n"
      ],
      "text/markdown": [
       "\n",
       "| Restaurant | Location | Cuisines | Average_Cost | Minimum_Order | Rating | Votes | Reviews | Delivery_Time |\n",
       "|---|---|---|---|---|---|---|---|---|\n",
       "| 6321                                   | 11                                     | Fast Food, Rolls, Burger, Salad, Wraps |  0.009912704                           | -0.1796816                             | -0.29555387                            | -0.36429646                            | -0.41658990                            | 30                                     |\n",
       "| 2882                                   | 31                                     | Ice Cream, Desserts                    | -0.827284864                           | -0.1796816                             | -0.29555387                            | -0.36628087                            | -0.41658990                            | 30                                     |\n",
       "| 1595                                   | 20                                     | Italian, Street Food, Fast Food        | -0.408686080                           | -0.1796816                             | -0.02878771                            | -0.19165294                            | -0.32392963                            | 65                                     |\n",
       "| 5929                                   | 29                                     | Mughlai, North Indian, Chinese         |  0.428511488                           |  2.4597911                             |  0.23797844                            | -0.03885351                            | -0.09227895                            | 30                                     |\n",
       "| 6123                                   | 27                                     | Cafe, Beverages                        |  0.009912704                           |  2.4597911                             | -1.09585233                            |  0.64576734                            |  0.40666097                            | 65                                     |\n",
       "| 5221                                   | 27                                     | South Indian, North Indian, Chinese    | -0.408686080                           | -0.1796816                             |  0.50474459                            | -0.29682658                            | -0.36669591                            | 30                                     |\n",
       "\n"
      ],
      "text/plain": [
       "  Restaurant Location Cuisines                               Average_Cost\n",
       "1 6321       11       Fast Food, Rolls, Burger, Salad, Wraps  0.009912704\n",
       "2 2882       31       Ice Cream, Desserts                    -0.827284864\n",
       "3 1595       20       Italian, Street Food, Fast Food        -0.408686080\n",
       "4 5929       29       Mughlai, North Indian, Chinese          0.428511488\n",
       "5 6123       27       Cafe, Beverages                         0.009912704\n",
       "6 5221       27       South Indian, North Indian, Chinese    -0.408686080\n",
       "  Minimum_Order Rating      Votes       Reviews     Delivery_Time\n",
       "1 -0.1796816    -0.29555387 -0.36429646 -0.41658990 30           \n",
       "2 -0.1796816    -0.29555387 -0.36628087 -0.41658990 30           \n",
       "3 -0.1796816    -0.02878771 -0.19165294 -0.32392963 65           \n",
       "4  2.4597911     0.23797844 -0.03885351 -0.09227895 30           \n",
       "5  2.4597911    -1.09585233  0.64576734  0.40666097 65           \n",
       "6 -0.1796816     0.50474459 -0.29682658 -0.36669591 30           "
      ]
     },
     "metadata": {},
     "output_type": "display_data"
    }
   ],
   "source": [
    "head(train)"
   ]
  },
  {
   "cell_type": "code",
   "execution_count": 31,
   "metadata": {},
   "outputs": [
    {
     "data": {
      "text/html": [
       "<table>\n",
       "<thead><tr><th scope=col>Restaurant</th><th scope=col>Location</th><th scope=col>Cuisines</th><th scope=col>Average_Cost</th><th scope=col>Minimum_Order</th><th scope=col>Rating</th><th scope=col>Votes</th><th scope=col>Reviews</th></tr></thead>\n",
       "<tbody>\n",
       "\t<tr><td>2842                                                  </td><td>18                                                    </td><td>North Indian, Chinese, Assamese                       </td><td> 1.265709057                                          </td><td>-0.1796816                                            </td><td> 1.57180921                                           </td><td> 0.3282620                                            </td><td> 0.3710224                                            </td></tr>\n",
       "\t<tr><td>730                                                   </td><td>18                                                    </td><td>Biryani, Kebab                                        </td><td>-0.827284864                                          </td><td>-0.1796816                                            </td><td> 0.00000000                                           </td><td>-0.3881094                                            </td><td> 0.0000000                                            </td></tr>\n",
       "\t<tr><td>4620                                                  </td><td>29                                                    </td><td>Fast Food                                             </td><td>-0.827284864                                          </td><td>-0.1796816                                            </td><td>-0.02878771                                           </td><td>-0.3166707                                            </td><td>-0.3738236                                            </td></tr>\n",
       "\t<tr><td>5470                                                  </td><td>1                                                     </td><td>Mithai, North Indian, Chinese, Fast Food, South Indian</td><td> 0.009912704                                          </td><td>-0.1796816                                            </td><td>-0.02878771                                           </td><td>-0.2571384                                            </td><td>-0.3132381                                            </td></tr>\n",
       "\t<tr><td>3249                                                  </td><td>29                                                    </td><td>Chinese, Fast Food                                    </td><td>-0.408686080                                          </td><td>-0.1796816                                            </td><td>-1.89615079                                           </td><td>-0.3127018                                            </td><td>-0.3809513                                            </td></tr>\n",
       "\t<tr><td>506                                                   </td><td>35                                                    </td><td>North Indian, Chinese                                 </td><td>-0.827284864                                          </td><td>-0.1796816                                            </td><td>-0.56232002                                           </td><td>-0.3563588                                            </td><td>-0.3916429                                            </td></tr>\n",
       "</tbody>\n",
       "</table>\n"
      ],
      "text/latex": [
       "\\begin{tabular}{r|llllllll}\n",
       " Restaurant & Location & Cuisines & Average\\_Cost & Minimum\\_Order & Rating & Votes & Reviews\\\\\n",
       "\\hline\n",
       "\t 2842                                                   & 18                                                     & North Indian, Chinese, Assamese                        &  1.265709057                                           & -0.1796816                                             &  1.57180921                                            &  0.3282620                                             &  0.3710224                                            \\\\\n",
       "\t 730                                                    & 18                                                     & Biryani, Kebab                                         & -0.827284864                                           & -0.1796816                                             &  0.00000000                                            & -0.3881094                                             &  0.0000000                                            \\\\\n",
       "\t 4620                                                   & 29                                                     & Fast Food                                              & -0.827284864                                           & -0.1796816                                             & -0.02878771                                            & -0.3166707                                             & -0.3738236                                            \\\\\n",
       "\t 5470                                                   & 1                                                      & Mithai, North Indian, Chinese, Fast Food, South Indian &  0.009912704                                           & -0.1796816                                             & -0.02878771                                            & -0.2571384                                             & -0.3132381                                            \\\\\n",
       "\t 3249                                                   & 29                                                     & Chinese, Fast Food                                     & -0.408686080                                           & -0.1796816                                             & -1.89615079                                            & -0.3127018                                             & -0.3809513                                            \\\\\n",
       "\t 506                                                    & 35                                                     & North Indian, Chinese                                  & -0.827284864                                           & -0.1796816                                             & -0.56232002                                            & -0.3563588                                             & -0.3916429                                            \\\\\n",
       "\\end{tabular}\n"
      ],
      "text/markdown": [
       "\n",
       "| Restaurant | Location | Cuisines | Average_Cost | Minimum_Order | Rating | Votes | Reviews |\n",
       "|---|---|---|---|---|---|---|---|\n",
       "| 2842                                                   | 18                                                     | North Indian, Chinese, Assamese                        |  1.265709057                                           | -0.1796816                                             |  1.57180921                                            |  0.3282620                                             |  0.3710224                                             |\n",
       "| 730                                                    | 18                                                     | Biryani, Kebab                                         | -0.827284864                                           | -0.1796816                                             |  0.00000000                                            | -0.3881094                                             |  0.0000000                                             |\n",
       "| 4620                                                   | 29                                                     | Fast Food                                              | -0.827284864                                           | -0.1796816                                             | -0.02878771                                            | -0.3166707                                             | -0.3738236                                             |\n",
       "| 5470                                                   | 1                                                      | Mithai, North Indian, Chinese, Fast Food, South Indian |  0.009912704                                           | -0.1796816                                             | -0.02878771                                            | -0.2571384                                             | -0.3132381                                             |\n",
       "| 3249                                                   | 29                                                     | Chinese, Fast Food                                     | -0.408686080                                           | -0.1796816                                             | -1.89615079                                            | -0.3127018                                             | -0.3809513                                             |\n",
       "| 506                                                    | 35                                                     | North Indian, Chinese                                  | -0.827284864                                           | -0.1796816                                             | -0.56232002                                            | -0.3563588                                             | -0.3916429                                             |\n",
       "\n"
      ],
      "text/plain": [
       "  Restaurant Location Cuisines                                              \n",
       "1 2842       18       North Indian, Chinese, Assamese                       \n",
       "2 730        18       Biryani, Kebab                                        \n",
       "3 4620       29       Fast Food                                             \n",
       "4 5470       1        Mithai, North Indian, Chinese, Fast Food, South Indian\n",
       "5 3249       29       Chinese, Fast Food                                    \n",
       "6 506        35       North Indian, Chinese                                 \n",
       "  Average_Cost Minimum_Order Rating      Votes      Reviews   \n",
       "1  1.265709057 -0.1796816     1.57180921  0.3282620  0.3710224\n",
       "2 -0.827284864 -0.1796816     0.00000000 -0.3881094  0.0000000\n",
       "3 -0.827284864 -0.1796816    -0.02878771 -0.3166707 -0.3738236\n",
       "4  0.009912704 -0.1796816    -0.02878771 -0.2571384 -0.3132381\n",
       "5 -0.408686080 -0.1796816    -1.89615079 -0.3127018 -0.3809513\n",
       "6 -0.827284864 -0.1796816    -0.56232002 -0.3563588 -0.3916429"
      ]
     },
     "metadata": {},
     "output_type": "display_data"
    }
   ],
   "source": [
    "head(test)"
   ]
  },
  {
   "cell_type": "code",
   "execution_count": 32,
   "metadata": {},
   "outputs": [
    {
     "data": {
      "text/html": [
       "<ol class=list-inline>\n",
       "\t<li>2774</li>\n",
       "\t<li>8</li>\n",
       "</ol>\n"
      ],
      "text/latex": [
       "\\begin{enumerate*}\n",
       "\\item 2774\n",
       "\\item 8\n",
       "\\end{enumerate*}\n"
      ],
      "text/markdown": [
       "1. 2774\n",
       "2. 8\n",
       "\n",
       "\n"
      ],
      "text/plain": [
       "[1] 2774    8"
      ]
     },
     "metadata": {},
     "output_type": "display_data"
    }
   ],
   "source": [
    "dim(test)"
   ]
  },
  {
   "cell_type": "code",
   "execution_count": 33,
   "metadata": {},
   "outputs": [
    {
     "data": {
      "text/html": [
       "<ol class=list-inline>\n",
       "\t<li>11094</li>\n",
       "\t<li>9</li>\n",
       "</ol>\n"
      ],
      "text/latex": [
       "\\begin{enumerate*}\n",
       "\\item 11094\n",
       "\\item 9\n",
       "\\end{enumerate*}\n"
      ],
      "text/markdown": [
       "1. 11094\n",
       "2. 9\n",
       "\n",
       "\n"
      ],
      "text/plain": [
       "[1] 11094     9"
      ]
     },
     "metadata": {},
     "output_type": "display_data"
    }
   ],
   "source": [
    "dim(train)"
   ]
  },
  {
   "cell_type": "markdown",
   "metadata": {},
   "source": [
    "<center><h2>Support vector Regressor</h2></center>"
   ]
  },
  {
   "cell_type": "code",
   "execution_count": 34,
   "metadata": {},
   "outputs": [],
   "source": [
    "regressor = svm(formula = Delivery_Time ~ .,\n",
    "                data = train[,-3],\n",
    "                type = 'nu-regression',\n",
    "                kernel = 'linear')"
   ]
  },
  {
   "cell_type": "code",
   "execution_count": 35,
   "metadata": {},
   "outputs": [
    {
     "data": {
      "text/plain": [
       "\n",
       "Call:\n",
       "svm(formula = Delivery_Time ~ ., data = train[, -3], type = \"nu-regression\", \n",
       "    kernel = \"linear\")\n",
       "\n",
       "\n",
       "Parameters:\n",
       "   SVM-Type:  nu-regression \n",
       " SVM-Kernel:  linear \n",
       "       cost:  1 \n",
       "         nu:  0.5 \n",
       "\n",
       "Number of Support Vectors:  10789\n"
      ]
     },
     "metadata": {},
     "output_type": "display_data"
    }
   ],
   "source": [
    "regressor"
   ]
  },
  {
   "cell_type": "code",
   "execution_count": 36,
   "metadata": {},
   "outputs": [],
   "source": [
    "# Predicting a new result\n",
    "y_pred = predict(regressor, test[,-3])"
   ]
  },
  {
   "cell_type": "code",
   "execution_count": 37,
   "metadata": {},
   "outputs": [],
   "source": [
    "mround <- function(x,base){\n",
    "        base*round(x/base)\n",
    "}"
   ]
  },
  {
   "cell_type": "code",
   "execution_count": 38,
   "metadata": {},
   "outputs": [],
   "source": [
    "b = mround(y_pred,5)"
   ]
  },
  {
   "cell_type": "code",
   "execution_count": 39,
   "metadata": {},
   "outputs": [],
   "source": [
    "b = paste(b,\"minutes\",sep = ' ')"
   ]
  },
  {
   "cell_type": "code",
   "execution_count": 40,
   "metadata": {},
   "outputs": [
    {
     "data": {
      "text/html": [
       "<ol class=list-inline>\n",
       "\t<li>'35 minutes'</li>\n",
       "\t<li>'30 minutes'</li>\n",
       "\t<li>'30 minutes'</li>\n",
       "\t<li>'35 minutes'</li>\n",
       "\t<li>'30 minutes'</li>\n",
       "\t<li>'30 minutes'</li>\n",
       "</ol>\n"
      ],
      "text/latex": [
       "\\begin{enumerate*}\n",
       "\\item '35 minutes'\n",
       "\\item '30 minutes'\n",
       "\\item '30 minutes'\n",
       "\\item '35 minutes'\n",
       "\\item '30 minutes'\n",
       "\\item '30 minutes'\n",
       "\\end{enumerate*}\n"
      ],
      "text/markdown": [
       "1. '35 minutes'\n",
       "2. '30 minutes'\n",
       "3. '30 minutes'\n",
       "4. '35 minutes'\n",
       "5. '30 minutes'\n",
       "6. '30 minutes'\n",
       "\n",
       "\n"
      ],
      "text/plain": [
       "[1] \"35 minutes\" \"30 minutes\" \"30 minutes\" \"35 minutes\" \"30 minutes\"\n",
       "[6] \"30 minutes\""
      ]
     },
     "metadata": {},
     "output_type": "display_data"
    }
   ],
   "source": [
    "head(b)"
   ]
  },
  {
   "cell_type": "code",
   "execution_count": 41,
   "metadata": {},
   "outputs": [],
   "source": [
    "write.xlsx(b,file = \"svm.xlsx\")"
   ]
  },
  {
   "cell_type": "code",
   "execution_count": 42,
   "metadata": {},
   "outputs": [
    {
     "data": {
      "text/plain": [
       "NULL"
      ]
     },
     "metadata": {},
     "output_type": "display_data"
    }
   ],
   "source": [
    "dim(b)"
   ]
  },
  {
   "cell_type": "code",
   "execution_count": 43,
   "metadata": {},
   "outputs": [
    {
     "data": {
      "text/html": [
       "2774"
      ],
      "text/latex": [
       "2774"
      ],
      "text/markdown": [
       "2774"
      ],
      "text/plain": [
       "[1] 2774"
      ]
     },
     "metadata": {},
     "output_type": "display_data"
    }
   ],
   "source": [
    "length(y_pred)"
   ]
  },
  {
   "cell_type": "code",
   "execution_count": 44,
   "metadata": {},
   "outputs": [
    {
     "data": {
      "text/html": [
       "<ol class=list-inline>\n",
       "\t<li>11094</li>\n",
       "\t<li>9</li>\n",
       "</ol>\n"
      ],
      "text/latex": [
       "\\begin{enumerate*}\n",
       "\\item 11094\n",
       "\\item 9\n",
       "\\end{enumerate*}\n"
      ],
      "text/markdown": [
       "1. 11094\n",
       "2. 9\n",
       "\n",
       "\n"
      ],
      "text/plain": [
       "[1] 11094     9"
      ]
     },
     "metadata": {},
     "output_type": "display_data"
    }
   ],
   "source": [
    "dim(train)"
   ]
  },
  {
   "cell_type": "code",
   "execution_count": 45,
   "metadata": {},
   "outputs": [
    {
     "data": {
      "text/html": [
       "<ol class=list-inline>\n",
       "\t<li>2774</li>\n",
       "\t<li>7</li>\n",
       "</ol>\n"
      ],
      "text/latex": [
       "\\begin{enumerate*}\n",
       "\\item 2774\n",
       "\\item 7\n",
       "\\end{enumerate*}\n"
      ],
      "text/markdown": [
       "1. 2774\n",
       "2. 7\n",
       "\n",
       "\n"
      ],
      "text/plain": [
       "[1] 2774    7"
      ]
     },
     "metadata": {},
     "output_type": "display_data"
    }
   ],
   "source": [
    "dim(test[,-3])"
   ]
  },
  {
   "cell_type": "code",
   "execution_count": 46,
   "metadata": {},
   "outputs": [
    {
     "data": {
      "text/plain": [
       " Restaurant       Location        Cuisines       Average_Cost   \n",
       " Mode :logical   Mode :logical   Mode :logical   Mode :logical  \n",
       " FALSE:2774      FALSE:2774      FALSE:2774      FALSE:2774     \n",
       " Minimum_Order     Rating          Votes          Reviews       \n",
       " Mode :logical   Mode :logical   Mode :logical   Mode :logical  \n",
       " FALSE:2774      FALSE:2774      FALSE:2774      FALSE:2774     "
      ]
     },
     "metadata": {},
     "output_type": "display_data"
    }
   ],
   "source": [
    "summary(is.na(test))"
   ]
  },
  {
   "cell_type": "markdown",
   "metadata": {},
   "source": [
    "<center><h2>Decision Tree</h2></center>"
   ]
  },
  {
   "cell_type": "code",
   "execution_count": 47,
   "metadata": {},
   "outputs": [],
   "source": [
    "regressor = rpart(formula = Delivery_Time ~ .,\n",
    "                  data = train[,-3],\n",
    "                  control = rpart.control(minsplit = 4))\n",
    "\n",
    "# Predicting a new result with Decision Tree Regression\n",
    "y_pred = predict(regressor, test[,-3])"
   ]
  },
  {
   "cell_type": "code",
   "execution_count": 48,
   "metadata": {},
   "outputs": [],
   "source": [
    "b = mround(y_pred,5)"
   ]
  },
  {
   "cell_type": "code",
   "execution_count": 49,
   "metadata": {},
   "outputs": [],
   "source": [
    "b = paste(b,\"minutes\",sep = \" \")"
   ]
  },
  {
   "cell_type": "code",
   "execution_count": 50,
   "metadata": {},
   "outputs": [
    {
     "data": {
      "text/html": [
       "<ol class=list-inline>\n",
       "\t<li>'45 minutes'</li>\n",
       "\t<li>'30 minutes'</li>\n",
       "\t<li>'30 minutes'</li>\n",
       "\t<li>'30 minutes'</li>\n",
       "\t<li>'30 minutes'</li>\n",
       "\t<li>'30 minutes'</li>\n",
       "</ol>\n"
      ],
      "text/latex": [
       "\\begin{enumerate*}\n",
       "\\item '45 minutes'\n",
       "\\item '30 minutes'\n",
       "\\item '30 minutes'\n",
       "\\item '30 minutes'\n",
       "\\item '30 minutes'\n",
       "\\item '30 minutes'\n",
       "\\end{enumerate*}\n"
      ],
      "text/markdown": [
       "1. '45 minutes'\n",
       "2. '30 minutes'\n",
       "3. '30 minutes'\n",
       "4. '30 minutes'\n",
       "5. '30 minutes'\n",
       "6. '30 minutes'\n",
       "\n",
       "\n"
      ],
      "text/plain": [
       "[1] \"45 minutes\" \"30 minutes\" \"30 minutes\" \"30 minutes\" \"30 minutes\"\n",
       "[6] \"30 minutes\""
      ]
     },
     "metadata": {},
     "output_type": "display_data"
    }
   ],
   "source": [
    "head(b)"
   ]
  },
  {
   "cell_type": "code",
   "execution_count": 51,
   "metadata": {},
   "outputs": [],
   "source": [
    "write.xlsx(b,file = \"decision.xlsx\")"
   ]
  },
  {
   "cell_type": "code",
   "execution_count": 52,
   "metadata": {},
   "outputs": [
    {
     "data": {
      "text/html": [
       "2774"
      ],
      "text/latex": [
       "2774"
      ],
      "text/markdown": [
       "2774"
      ],
      "text/plain": [
       "[1] 2774"
      ]
     },
     "metadata": {},
     "output_type": "display_data"
    }
   ],
   "source": [
    "length(b)"
   ]
  },
  {
   "cell_type": "code",
   "execution_count": 53,
   "metadata": {},
   "outputs": [
    {
     "data": {
      "text/html": [
       "<ol class=list-inline>\n",
       "\t<li>'45 minutes'</li>\n",
       "\t<li>'30 minutes'</li>\n",
       "\t<li>'45 minutes'</li>\n",
       "\t<li>'45 minutes'</li>\n",
       "\t<li>'30 minutes'</li>\n",
       "\t<li>'65 minutes'</li>\n",
       "</ol>\n"
      ],
      "text/latex": [
       "\\begin{enumerate*}\n",
       "\\item '45 minutes'\n",
       "\\item '30 minutes'\n",
       "\\item '45 minutes'\n",
       "\\item '45 minutes'\n",
       "\\item '30 minutes'\n",
       "\\item '65 minutes'\n",
       "\\end{enumerate*}\n"
      ],
      "text/markdown": [
       "1. '45 minutes'\n",
       "2. '30 minutes'\n",
       "3. '45 minutes'\n",
       "4. '45 minutes'\n",
       "5. '30 minutes'\n",
       "6. '65 minutes'\n",
       "\n",
       "\n"
      ],
      "text/plain": [
       "[1] \"45 minutes\" \"30 minutes\" \"45 minutes\" \"45 minutes\" \"30 minutes\"\n",
       "[6] \"65 minutes\""
      ]
     },
     "metadata": {},
     "output_type": "display_data"
    }
   ],
   "source": [
    "tail(b)"
   ]
  },
  {
   "cell_type": "markdown",
   "metadata": {},
   "source": [
    "<center><h2>Random Forest</h2></center>"
   ]
  },
  {
   "cell_type": "code",
   "execution_count": 54,
   "metadata": {},
   "outputs": [],
   "source": [
    "regressor = randomForest(train[,-c(1,3,9)],train$Delivery_Time,ntree = 1000)"
   ]
  },
  {
   "cell_type": "code",
   "execution_count": 55,
   "metadata": {},
   "outputs": [],
   "source": [
    "y_pred = predict(regressor, test[,-3])"
   ]
  },
  {
   "cell_type": "code",
   "execution_count": 56,
   "metadata": {},
   "outputs": [],
   "source": [
    "b = mround(y_pred,5)"
   ]
  },
  {
   "cell_type": "code",
   "execution_count": 57,
   "metadata": {},
   "outputs": [],
   "source": [
    "b = paste(b,\"minutes\",sep = \" \")"
   ]
  },
  {
   "cell_type": "code",
   "execution_count": 58,
   "metadata": {},
   "outputs": [
    {
     "data": {
      "text/html": [
       "<ol class=list-inline>\n",
       "\t<li>'35 minutes'</li>\n",
       "\t<li>'30 minutes'</li>\n",
       "\t<li>'40 minutes'</li>\n",
       "\t<li>'35 minutes'</li>\n",
       "\t<li>'40 minutes'</li>\n",
       "\t<li>'30 minutes'</li>\n",
       "</ol>\n"
      ],
      "text/latex": [
       "\\begin{enumerate*}\n",
       "\\item '35 minutes'\n",
       "\\item '30 minutes'\n",
       "\\item '40 minutes'\n",
       "\\item '35 minutes'\n",
       "\\item '40 minutes'\n",
       "\\item '30 minutes'\n",
       "\\end{enumerate*}\n"
      ],
      "text/markdown": [
       "1. '35 minutes'\n",
       "2. '30 minutes'\n",
       "3. '40 minutes'\n",
       "4. '35 minutes'\n",
       "5. '40 minutes'\n",
       "6. '30 minutes'\n",
       "\n",
       "\n"
      ],
      "text/plain": [
       "[1] \"35 minutes\" \"30 minutes\" \"40 minutes\" \"35 minutes\" \"40 minutes\"\n",
       "[6] \"30 minutes\""
      ]
     },
     "metadata": {},
     "output_type": "display_data"
    }
   ],
   "source": [
    "head(b)"
   ]
  },
  {
   "cell_type": "code",
   "execution_count": 59,
   "metadata": {},
   "outputs": [],
   "source": [
    "write.xlsx(b,file = \"random.xlsx\")"
   ]
  },
  {
   "cell_type": "markdown",
   "metadata": {},
   "source": [
    "<center><h2>Artificial Neural Network</h2></center>"
   ]
  },
  {
   "cell_type": "code",
   "execution_count": 60,
   "metadata": {
    "scrolled": true
   },
   "outputs": [
    {
     "name": "stdout",
     "output_type": "stream",
     "text": [
      "\n",
      "H2O is not running yet, starting it now...\n",
      "\n",
      "Note:  In case of errors look at the following log files:\n",
      "    C:\\Users\\Dell\\AppData\\Local\\Temp\\RtmpSW0xyu/h2o_Dell_started_from_r.out\n",
      "    C:\\Users\\Dell\\AppData\\Local\\Temp\\RtmpSW0xyu/h2o_Dell_started_from_r.err\n",
      "\n",
      "\n",
      "Starting H2O JVM and connecting: .. Connection successful!\n",
      "\n",
      "R is connected to the H2O cluster: \n",
      "    H2O cluster uptime:         9 seconds 659 milliseconds \n",
      "    H2O cluster timezone:       Asia/Kolkata \n",
      "    H2O data parsing timezone:  UTC \n",
      "    H2O cluster version:        3.26.0.2 \n",
      "    H2O cluster version age:    5 months and 8 days !!! \n",
      "    H2O cluster name:           H2O_started_from_R_Dell_tcf657 \n",
      "    H2O cluster total nodes:    1 \n",
      "    H2O cluster total memory:   1.98 GB \n",
      "    H2O cluster total cores:    4 \n",
      "    H2O cluster allowed cores:  4 \n",
      "    H2O cluster healthy:        TRUE \n",
      "    H2O Connection ip:          localhost \n",
      "    H2O Connection port:        54321 \n",
      "    H2O Connection proxy:       NA \n",
      "    H2O Internal Security:      FALSE \n",
      "    H2O API Extensions:         Amazon S3, Algos, AutoML, Core V3, Core V4 \n",
      "    R Version:                  R version 3.6.0 (2019-04-26) \n"
     ]
    },
    {
     "name": "stderr",
     "output_type": "stream",
     "text": [
      "Warning message in h2o.clusterInfo():\n",
      "\"\n",
      "Your H2O cluster version is too old (5 months and 8 days)!\n",
      "Please download and install the latest version from http://h2o.ai/download/\""
     ]
    },
    {
     "name": "stdout",
     "output_type": "stream",
     "text": [
      "\n"
     ]
    }
   ],
   "source": [
    "h2o.init(nthreads = -1)"
   ]
  },
  {
   "cell_type": "code",
   "execution_count": 61,
   "metadata": {},
   "outputs": [
    {
     "name": "stdout",
     "output_type": "stream",
     "text": [
      "  |======================================================================| 100%\n",
      "  |======================================================================| 100%\n"
     ]
    }
   ],
   "source": [
    "regressor = h2o.deeplearning(y = \"Delivery_Time\",\n",
    "                              training_frame = as.h2o(train[,-3]),\n",
    "                              activation = \"TanhWithDropout\",\n",
    "                             hidden = c(50,50),\n",
    "                              epochs = 100,\n",
    "                              train_samples_per_iteration = -2,\n",
    "                            keep_cross_validation_models = TRUE)"
   ]
  },
  {
   "cell_type": "code",
   "execution_count": 62,
   "metadata": {},
   "outputs": [
    {
     "data": {
      "text/plain": [
       "Model Details:\n",
       "==============\n",
       "\n",
       "H2ORegressionModel: deeplearning\n",
       "Model ID:  DeepLearning_model_R_1578139888977_1 \n",
       "Status of Neuron Layers: predicting Delivery_Time, regression, gaussian distribution, Quadratic loss, 378,751 weights/biases, 4.5 MB, 1,018,699 training samples, mini-batch size 1\n",
       "  layer units        type dropout       l1       l2 mean_rate rate_rms momentum\n",
       "1     1  7522       Input  0.00 %       NA       NA        NA       NA       NA\n",
       "2     2    50 TanhDropout 50.00 % 0.000000 0.000000  0.005052 0.016253 0.000000\n",
       "3     3    50 TanhDropout 50.00 % 0.000000 0.000000  0.009528 0.012552 0.000000\n",
       "4     4     1      Linear      NA 0.000000 0.000000  0.000208 0.000010 0.000000\n",
       "  mean_weight weight_rms mean_bias  bias_rms\n",
       "1          NA         NA        NA        NA\n",
       "2   -0.003877   0.439310  2.774671 32.783051\n",
       "3   -0.045366   2.491865 -0.266127  2.716818\n",
       "4   -0.003233   0.055294  0.362789  0.000000\n",
       "\n",
       "\n",
       "H2ORegressionMetrics: deeplearning\n",
       "** Reported on training data. **\n",
       "** Metrics reported on temporary training frame with 10000 samples **\n",
       "\n",
       "MSE:  70.77621\n",
       "RMSE:  8.41286\n",
       "MAE:  4.853952\n",
       "RMSLE:  0.1633587\n",
       "Mean Residual Deviance :  70.77621\n",
       "\n",
       "\n",
       "\n"
      ]
     },
     "metadata": {},
     "output_type": "display_data"
    }
   ],
   "source": [
    "regressor"
   ]
  },
  {
   "cell_type": "code",
   "execution_count": 63,
   "metadata": {},
   "outputs": [
    {
     "name": "stdout",
     "output_type": "stream",
     "text": [
      "  |======================================================================| 100%\n",
      "  |======================================================================| 100%\n"
     ]
    },
    {
     "name": "stderr",
     "output_type": "stream",
     "text": [
      "Warning message in doTryCatch(return(expr), name, parentenv, handler):\n",
      "\"Test/Validation dataset column 'Restaurant' has levels not trained on: [10, 1002, 1024, 1030, 1040, 1045, 106, 1060, 1066, 1075, 1087, 1097, 1111, 1113, 1117, 1129, 113, 1132, 1141, 1147, 115, 1151, 1154, 116, 1161, 1176, 1178, 1186, 1187, 1188, 1196, 1201, 1202, 1206, 1211, 1221, 1229, 123, 1259, 127, 1280, 1295, 130, 1307, 1314, 1320, 1323, 1326, 1330, 1337, 1351, 1354, 1356, 1357, 1369, 137, 1386, 1387, 1395, 1409, 1410, 1412, 1418, 1433, 1437, 1438, 144, 1442, 1445, 1473, 1474, 1491, 1498, 1500, 1502, 1509, 1512, 1515, 1518, 1525, 1534, 1536, 154, 1542, 1567, 157, 1572, 1573, 1576, 1583, 1587, 1591, 1597, 16, 1601, 161, 1624, 1629, 1630, 1632, 1634, 1649, 1652, 1660, 167, 1674, 1689, 169, 1691, 1702, 1707, 1708, 171, 1712, 1715, 1722, 173, 1747, 1748, 1750, 1764, 1768, 1779, 1790, 1814, 1816, 185, 1851, 1866, 1873, 1875, 1880, 1888, 1898, 1903, 1921, 194, 1941, 1944, 1950, 1963, 1970, 1973, 1977, 1982, 1983, 1988, 1999, 2000, 2006, 2009, 2013, 2017, 2024, 204, 2048, 2055, 2064, 2066, 2077, 2082, 2084, 2087, 2089, 209, 2091, 2098, 2099, 21, 2113, 2119, 2129, 2136, 214, 2143, 2148, 2153, 2159, 2183, 2195, 220, 2208, 2213, 222, 223, 2236, 2242, 2243, 225, 2252, 2267, 2269, 2279, 2284, 2287, 2289, 2294, 230, 2302, 2305, 2309, 2315, 2319, 2333, 2338, 2339, 2340, 2343, 235, 2351, 2359, 2364, 2368, 2374, 2375, 238, 2381, 2382, 2392, 2396, 2405, 2406, 2411, 2415, 2423, 2428, 2436, 2441, 2444, 2451, 2455, 2475, 2477, 2479, 2494, 2496, 2497, 2502, 2511, 2518, 2529, 253, 2531, 2534, 2538, 2562, 2566, 2569, 257, 2572, 2574, 2577, 2585, 26, 260, 2610, 2624, 263, 2630, 2631, 2633, 264, 2641, 2649, 2652, 2658, 2661, 2665, 2666, 2672, 2674, 2689, 2690, 2691, 2696, 2705, 2712, 2715, 2716, 2720, 2724, 2735, 2736, 2737, 2752, 2758, 2767, 2773, 2778, 2786, 2789, 279, 2808, 2813, 282, 2827, 2828, 283, 2838, 2840, 2842, 2849, 285, 2864, 2869, 2873, 2874, 2876, 2888, 2894, 2912, 2918, 2923, 2935, 2939, 2941, 2945, 2954, 2961, 2969, 2972, 2985, 2986, 2997, 2998, 300, 3007, 3010, 3014, 3016, 3017, 302, 3026, 3028, 3032, 3037, 3041, 3044, 3051, 3059, 3091, 3108, 311, 3124, 3128, 3132, 3138, 3139, 3150, 3169, 3172, 3177, 3181, 3187, 320, 3205, 321, 3211, 3212, 3230, 3231, 3244, 325, 3264, 3270, 3285, 3286, 3287, 3292, 3294, 3304, 331, 3310, 3314, 3315, 3318, 3321, 3323, 3333, 3334, 3341, 3353, 3361, 3365, 3370, 338, 3391, 3393, 3394, 3409, 341, 3420, 3423, 3430, 3433, 3439, 3450, 3471, 3476, 3477, 3483, 3486, 3490, 35, 3500, 3504, 3510, 3519, 3523, 3529, 3546, 3557, 3559, 3563, 3580, 3581, 3583, 3594, 3602, 3606, 3628, 3645, 3646, 3662, 3668, 3677, 3679, 3686, 3688, 3689, 3694, 370, 3704, 3732, 3736, 375, 3762, 3770, 3780, 3781, 3784, 3786, 3789, 379, 3790, 380, 3815, 3816, 3820, 3821, 3841, 3850, 3856, 3862, 3873, 3877, 3891, 3916, 3927, 393, 3936, 3937, 394, 3944, 3945, 3948, 3953, 3956, 396, 3963, 3971, 3972, 3975, 3977, 3978, 3987, 3997, 3999, 4008, 4013, 4033, 404, 4053, 4056, 4057, 4061, 4067, 4069, 4072, 4073, 4077, 4084, 4098, 4113, 4121, 4122, 4123, 4134, 4144, 4159, 4163, 4166, 4175, 4177, 4178, 4184, 4191, 4192, 423, 4250, 4255, 4261, 4262, 4265, 4273, 4277, 4288, 4296, 430, 4304, 4308, 4309, 431, 4321, 4336, 4339, 4340, 4346, 4361, 4374, 4375, 438, 4404, 4405, 4422, 4425, 4435, 446, 4472, 4473, 4477, 448, 4480, 4505, 451, 4516, 452, 4524, 4538, 4542, 4547, 4548, 4557, 4558, 4564, 4566, 4568, 4569, 458, 4590, 4591, 460, 4613, 4616, 4632, 4656, 4657, 4661, 4671, 4676, 4682, 469, 4695, 4707, 4715, 4719, 4733, 4739, 4743, 4745, 4747, 4748, 4756, 4757, 4760, 4779, 4789, 4796, 4798, 4802, 4804, 4808, 4814, 4829, 4831, 4832, 4835, 4836, 4846, 485, 4851, 4852, 486, 4865, 4877, 488, 4890, 4891, 4894, 4896, 4903, 4919, 4928, 4929, 4932, 4934, 4938, 494, 4946, 4947, 4949, 4959, 4960, 4968, 4977, 4982, 4986, 4988, 4991, 50, 5006, 5013, 5014, 5016, 5026, 503, 5030, 5032, 5034, 5041, 5045, 5048, 5051, 5055, 5056, 5064, 5069, 5075, 5082, 5088, 5092, 51, 5104, 5116, 5148, 5162, 5172, 5182, 5186, 5201, 5202, 5207, 5219, 5243, 5244, 525, 5250, 5251, 5266, 5268, 5273, 5283, 5292, 5297, 5298, 5314, 5318, 5330, 5331, 5333, 5339, 5341, 5343, 5349, 535, 5365, 5378, 5385, 5386, 541, 5422, 5427, 5437, 5443, 5445, 5449, 5462, 5463, 5470, 5480, 5481, 5498, 5505, 5510, 5518, 5533, 5546, 5548, 5555, 5559, 5562, 5563, 5575, 5586, 5597, 5599, 5606, 5611, 5614, 5623, 563, 5649, 5651, 5655, 5658, 5667, 5668, 5669, 5671, 5677, 568, 5680, 5684, 5687, 5714, 5717, 5730, 5740, 5748, 5756, 5782, 5792, 5793, 5795, 580, 5800, 5804, 5805, 5811, 5812, 5815, 5826, 5829, 5834, 5842, 5856, 586, 5860, 5864, 5868, 5877, 5891, 5892, 590, 5904, 5905, 5907, 5910, 5917, 5918, 5933, 5936, 5972, 5977, 5982, 5985, 5991, 5992, 5995, 6008, 6009, 6014, 6028, 6032, 6034, 6039, 6042, 6045, 6068, 6070, 6071, 6097, 6101, 6105, 611, 6110, 6113, 6114, 6120, 6139, 6148, 615, 6151, 6164, 6176, 6188, 6189, 6207, 6215, 6216, 6225, 6238, 6250, 6257, 6259, 6265, 6266, 6267, 6270, 6279, 6281, 6297, 6298, 6299, 6302, 6303, 6308, 631, 6310, 6326, 6333, 6338, 6342, 6351, 6354, 6357, 6367, 6371, 6380, 6387, 6388, 6396, 6397, 6401, 6410, 6416, 6426, 6438, 6439, 6442, 645, 6453, 6455, 6456, 6483, 6492, 6498, 6499, 6501, 6504, 6507, 6509, 6513, 6529, 6540, 6546, 6550, 6553, 6563, 6568, 6583, 6598, 6605, 6616, 6626, 6671, 6675, 6680, 6684, 6686, 6687, 67, 6708, 6727, 673, 6748, 6749, 6770, 6773, 6779, 6780, 6783, 6786, 6787, 6798, 680, 6802, 6807, 6809, 6811, 6821, 6829, 6833, 6834, 6837, 685, 6850, 6853, 6862, 6867, 6870, 6872, 6878, 6885, 6898, 69, 6902, 6903, 6911, 6916, 6918, 6926, 6935, 6944, 6953, 6955, 6960, 6961, 6963, 6970, 6987, 7, 7022, 7025, 7035, 7040, 7043, 705, 706, 7069, 7073, 7075, 7086, 7088, 7102, 7103, 7105, 7108, 7116, 7129, 7133, 7146, 715, 7154, 7161, 7164, 7165, 7166, 7168, 7182, 7193, 7232, 7241, 7246, 7256, 7264, 7274, 7279, 728, 7282, 7284, 7287, 7298, 730, 7308, 7313, 7317, 7320, 7327, 7336, 7338, 7339, 7345, 7348, 736, 7366, 7367, 737, 7379, 7384, 7387, 7396, 740, 7409, 7420, 7426, 7428, 7430, 7434, 7444, 7476, 7477, 7489, 7498, 75, 7507, 7517, 7518, 7545, 7553, 756, 7565, 7567, 7572, 7582, 7584, 7593, 7598, 7600, 7611, 7626, 763, 7631, 7642, 7645, 7646, 7648, 766, 7682, 7684, 7685, 7687, 7698, 7699, 7700, 7708, 771, 7714, 772, 7729, 7734, 7746, 775, 7751, 7767, 778, 7793, 7799, 78, 7806, 7807, 7811, 7815, 784, 7848, 7854, 787, 7875, 7881, 7883, 7886, 7902, 7925, 7926, 7927, 7929, 7937, 7948, 7960, 7975, 7982, 7983, 7984, 799, 7991, 7997, 7998, 7999, 8003, 8015, 8016, 8047, 8068, 8076, 8079, 81, 8110, 8113, 8126, 8152, 8159, 8160, 8167, 8169, 8171, 8179, 8181, 8191, 8192, 8193, 8197, 8198, 820, 8204, 8209, 8212, 8214, 8223, 8231, 8241, 8249, 8267, 8269, 8271, 8279, 8289, 8290, 8294, 830, 8300, 8301, 8306, 8309, 8321, 8334, 834, 8347, 8352, 836, 8369, 8373, 8376, 8377, 8378, 8385, 8388, 8390, 8393, 8394, 8396, 840, 8442, 8457, 846, 8461, 8464, 8490, 8501, 851, 8516, 8517, 8531, 8534, 8535, 854, 8554, 8558, 8562, 8566, 8570, 8593, 8594, 8598, 8600, 8612, 8613, 8617, 8626, 8630, 8631, 8635, 8640, 8652, 867, 868, 879, 88, 897, 943, 967, 977]\""
     ]
    }
   ],
   "source": [
    "y_pred = h2o.predict(regressor,newdata = as.h2o(test[-3]))"
   ]
  },
  {
   "cell_type": "code",
   "execution_count": 64,
   "metadata": {},
   "outputs": [
    {
     "data": {
      "text/plain": [
       "   predict\n",
       "1 43.87471\n",
       "2 31.77999\n",
       "3 32.28231\n",
       "4 31.71662\n",
       "5 32.36931\n",
       "6 31.91659\n",
       "\n",
       "[2774 rows x 1 column] "
      ]
     },
     "metadata": {},
     "output_type": "display_data"
    }
   ],
   "source": [
    "y_pred"
   ]
  },
  {
   "cell_type": "code",
   "execution_count": 65,
   "metadata": {},
   "outputs": [],
   "source": [
    "b = mround(y_pred,5)"
   ]
  },
  {
   "cell_type": "code",
   "execution_count": 66,
   "metadata": {},
   "outputs": [],
   "source": [
    "b = as.vector(b)"
   ]
  },
  {
   "cell_type": "code",
   "execution_count": 67,
   "metadata": {},
   "outputs": [],
   "source": [
    "b = paste(b,\"minutes\",sep = \" \")"
   ]
  },
  {
   "cell_type": "code",
   "execution_count": 68,
   "metadata": {},
   "outputs": [],
   "source": [
    "write.xlsx(b,file = \"ann.xlsx\")"
   ]
  }
 ],
 "metadata": {
  "kernelspec": {
   "display_name": "R",
   "language": "R",
   "name": "ir"
  },
  "language_info": {
   "codemirror_mode": "r",
   "file_extension": ".r",
   "mimetype": "text/x-r-source",
   "name": "R",
   "pygments_lexer": "r",
   "version": "3.6.0"
  }
 },
 "nbformat": 4,
 "nbformat_minor": 2
}
